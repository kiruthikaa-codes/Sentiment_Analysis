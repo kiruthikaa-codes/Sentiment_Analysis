{
 "cells": [
  {
   "cell_type": "markdown",
   "id": "d7227100-3f46-4034-a2fc-52e6b05e4c19",
   "metadata": {},
   "source": [
    "# SENTIMENT ANALYSIS:\n",
    "#     TASKS:\n",
    "## Part I--> Data Analysis:\n",
    "        1.Import dependencies\n",
    "        2.Data Preprocessing\n",
    "        3.Data Transformation\n",
    "        4.Visualisation\n",
    "## Part II--> Machine Learning:\n",
    "        1. Using RNN for training and testing\n",
    "        2. Predict sentiment of user inputted sentence"
   ]
  },
  {
   "cell_type": "code",
   "execution_count": 71,
   "id": "6b79f2cf-4015-4797-b7e3-09485e10553f",
   "metadata": {},
   "outputs": [],
   "source": [
    "#DATA ANALYSIS:\n",
    "import numpy as np\n",
    "import pandas as pd\n",
    "import matplotlib.pyplot as plt\n",
    "import plotly.express as px\n",
    "import seaborn as sns"
   ]
  },
  {
   "cell_type": "code",
   "execution_count": 18,
   "id": "9bf3e80b-9b36-41b1-a924-77cfc06453f8",
   "metadata": {},
   "outputs": [],
   "source": [
    "data = pd.read_csv(r\"C:\\Users\\Kiruthika Murugesan\\Desktop\\CSE_lang\\projects\\data_analysis\\social_media_sentiment_analysis\\sentimentdataset.csv\")"
   ]
  },
  {
   "cell_type": "code",
   "execution_count": 19,
   "id": "dad4dc0b-1b36-4ba5-8d8d-8b4e0f77f87e",
   "metadata": {},
   "outputs": [
    {
     "data": {
      "text/plain": [
       "<bound method DataFrame.info of      Unnamed: 0.1  Unnamed: 0  \\\n",
       "0               0           0   \n",
       "1               1           1   \n",
       "2               2           2   \n",
       "3               3           3   \n",
       "4               4           4   \n",
       "..            ...         ...   \n",
       "727           728         732   \n",
       "728           729         733   \n",
       "729           730         734   \n",
       "730           731         735   \n",
       "731           732         736   \n",
       "\n",
       "                                                  Text    Sentiment  \\\n",
       "0     Enjoying a beautiful day at the park!        ...   Positive     \n",
       "1     Traffic was terrible this morning.           ...   Negative     \n",
       "2     Just finished an amazing workout! 💪          ...   Positive     \n",
       "3     Excited about the upcoming weekend getaway!  ...   Positive     \n",
       "4     Trying out a new recipe for dinner tonight.  ...   Neutral      \n",
       "..                                                 ...          ...   \n",
       "727  Collaborating on a science project that receiv...       Happy    \n",
       "728  Attending a surprise birthday party organized ...       Happy    \n",
       "729  Successfully fundraising for a school charity ...       Happy    \n",
       "730  Participating in a multicultural festival, cel...       Happy    \n",
       "731  Organizing a virtual talent show during challe...       Happy    \n",
       "\n",
       "               Timestamp                                   User     Platform  \\\n",
       "0    2023-01-15 12:30:00                          User123          Twitter     \n",
       "1    2023-01-15 08:45:00                          CommuterX        Twitter     \n",
       "2    2023-01-15 15:45:00                          FitnessFan      Instagram    \n",
       "3    2023-01-15 18:20:00                          AdventureX       Facebook    \n",
       "4    2023-01-15 19:55:00                          ChefCook        Instagram    \n",
       "..                   ...                                    ...          ...   \n",
       "727  2017-08-18 18:20:00       ScienceProjectSuccessHighSchool     Facebook    \n",
       "728  2018-06-22 14:15:00            BirthdayPartyJoyHighSchool    Instagram    \n",
       "729  2019-04-05 17:30:00   CharityFundraisingTriumphHighSchool      Twitter    \n",
       "730  2020-02-29 20:45:00    MulticulturalFestivalJoyHighSchool     Facebook    \n",
       "731  2020-11-15 15:15:00    VirtualTalentShowSuccessHighSchool    Instagram    \n",
       "\n",
       "                                          Hashtags  Retweets  Likes  \\\n",
       "0        #Nature #Park                                  15.0   30.0   \n",
       "1        #Traffic #Morning                               5.0   10.0   \n",
       "2        #Fitness #Workout                              20.0   40.0   \n",
       "3        #Travel #Adventure                              8.0   15.0   \n",
       "4        #Cooking #Food                                 12.0   25.0   \n",
       "..                                             ...       ...    ...   \n",
       "727         #ScienceFairWinner #HighSchoolScience       20.0   39.0   \n",
       "728    #SurpriseCelebration #HighSchoolFriendship       25.0   48.0   \n",
       "729      #CommunityGiving #HighSchoolPhilanthropy       22.0   42.0   \n",
       "730         #CulturalCelebration #HighSchoolUnity       21.0   43.0   \n",
       "731   #VirtualEntertainment #HighSchoolPositivity       24.0   47.0   \n",
       "\n",
       "          Country  Year  Month  Day  Hour  \n",
       "0       USA        2023      1   15    12  \n",
       "1       Canada     2023      1   15     8  \n",
       "2     USA          2023      1   15    15  \n",
       "3       UK         2023      1   15    18  \n",
       "4      Australia   2023      1   15    19  \n",
       "..            ...   ...    ...  ...   ...  \n",
       "727            UK  2017      8   18    18  \n",
       "728           USA  2018      6   22    14  \n",
       "729        Canada  2019      4    5    17  \n",
       "730            UK  2020      2   29    20  \n",
       "731           USA  2020     11   15    15  \n",
       "\n",
       "[732 rows x 15 columns]>"
      ]
     },
     "execution_count": 19,
     "metadata": {},
     "output_type": "execute_result"
    }
   ],
   "source": [
    "data.info"
   ]
  },
  {
   "cell_type": "code",
   "execution_count": 20,
   "id": "a3c969ff-4650-4cf4-ae8f-ededcb0c7776",
   "metadata": {},
   "outputs": [
    {
     "data": {
      "text/plain": [
       "(732, 15)"
      ]
     },
     "execution_count": 20,
     "metadata": {},
     "output_type": "execute_result"
    }
   ],
   "source": [
    "data.shape"
   ]
  },
  {
   "cell_type": "code",
   "execution_count": 21,
   "id": "aebc6167-f775-4eda-ae3b-56811f808827",
   "metadata": {},
   "outputs": [
    {
     "data": {
      "text/html": [
       "<div>\n",
       "<style scoped>\n",
       "    .dataframe tbody tr th:only-of-type {\n",
       "        vertical-align: middle;\n",
       "    }\n",
       "\n",
       "    .dataframe tbody tr th {\n",
       "        vertical-align: top;\n",
       "    }\n",
       "\n",
       "    .dataframe thead th {\n",
       "        text-align: right;\n",
       "    }\n",
       "</style>\n",
       "<table border=\"1\" class=\"dataframe\">\n",
       "  <thead>\n",
       "    <tr style=\"text-align: right;\">\n",
       "      <th></th>\n",
       "      <th>Unnamed: 0.1</th>\n",
       "      <th>Unnamed: 0</th>\n",
       "      <th>Text</th>\n",
       "      <th>Sentiment</th>\n",
       "      <th>Timestamp</th>\n",
       "      <th>User</th>\n",
       "      <th>Platform</th>\n",
       "      <th>Hashtags</th>\n",
       "      <th>Retweets</th>\n",
       "      <th>Likes</th>\n",
       "      <th>Country</th>\n",
       "      <th>Year</th>\n",
       "      <th>Month</th>\n",
       "      <th>Day</th>\n",
       "      <th>Hour</th>\n",
       "    </tr>\n",
       "  </thead>\n",
       "  <tbody>\n",
       "    <tr>\n",
       "      <th>0</th>\n",
       "      <td>0</td>\n",
       "      <td>0</td>\n",
       "      <td>Enjoying a beautiful day at the park!        ...</td>\n",
       "      <td>Positive</td>\n",
       "      <td>2023-01-15 12:30:00</td>\n",
       "      <td>User123</td>\n",
       "      <td>Twitter</td>\n",
       "      <td>#Nature #Park</td>\n",
       "      <td>15.0</td>\n",
       "      <td>30.0</td>\n",
       "      <td>USA</td>\n",
       "      <td>2023</td>\n",
       "      <td>1</td>\n",
       "      <td>15</td>\n",
       "      <td>12</td>\n",
       "    </tr>\n",
       "    <tr>\n",
       "      <th>1</th>\n",
       "      <td>1</td>\n",
       "      <td>1</td>\n",
       "      <td>Traffic was terrible this morning.           ...</td>\n",
       "      <td>Negative</td>\n",
       "      <td>2023-01-15 08:45:00</td>\n",
       "      <td>CommuterX</td>\n",
       "      <td>Twitter</td>\n",
       "      <td>#Traffic #Morning</td>\n",
       "      <td>5.0</td>\n",
       "      <td>10.0</td>\n",
       "      <td>Canada</td>\n",
       "      <td>2023</td>\n",
       "      <td>1</td>\n",
       "      <td>15</td>\n",
       "      <td>8</td>\n",
       "    </tr>\n",
       "    <tr>\n",
       "      <th>2</th>\n",
       "      <td>2</td>\n",
       "      <td>2</td>\n",
       "      <td>Just finished an amazing workout! 💪          ...</td>\n",
       "      <td>Positive</td>\n",
       "      <td>2023-01-15 15:45:00</td>\n",
       "      <td>FitnessFan</td>\n",
       "      <td>Instagram</td>\n",
       "      <td>#Fitness #Workout</td>\n",
       "      <td>20.0</td>\n",
       "      <td>40.0</td>\n",
       "      <td>USA</td>\n",
       "      <td>2023</td>\n",
       "      <td>1</td>\n",
       "      <td>15</td>\n",
       "      <td>15</td>\n",
       "    </tr>\n",
       "    <tr>\n",
       "      <th>3</th>\n",
       "      <td>3</td>\n",
       "      <td>3</td>\n",
       "      <td>Excited about the upcoming weekend getaway!  ...</td>\n",
       "      <td>Positive</td>\n",
       "      <td>2023-01-15 18:20:00</td>\n",
       "      <td>AdventureX</td>\n",
       "      <td>Facebook</td>\n",
       "      <td>#Travel #Adventure</td>\n",
       "      <td>8.0</td>\n",
       "      <td>15.0</td>\n",
       "      <td>UK</td>\n",
       "      <td>2023</td>\n",
       "      <td>1</td>\n",
       "      <td>15</td>\n",
       "      <td>18</td>\n",
       "    </tr>\n",
       "    <tr>\n",
       "      <th>4</th>\n",
       "      <td>4</td>\n",
       "      <td>4</td>\n",
       "      <td>Trying out a new recipe for dinner tonight.  ...</td>\n",
       "      <td>Neutral</td>\n",
       "      <td>2023-01-15 19:55:00</td>\n",
       "      <td>ChefCook</td>\n",
       "      <td>Instagram</td>\n",
       "      <td>#Cooking #Food</td>\n",
       "      <td>12.0</td>\n",
       "      <td>25.0</td>\n",
       "      <td>Australia</td>\n",
       "      <td>2023</td>\n",
       "      <td>1</td>\n",
       "      <td>15</td>\n",
       "      <td>19</td>\n",
       "    </tr>\n",
       "    <tr>\n",
       "      <th>5</th>\n",
       "      <td>5</td>\n",
       "      <td>5</td>\n",
       "      <td>Feeling grateful for the little things in lif...</td>\n",
       "      <td>Positive</td>\n",
       "      <td>2023-01-16 09:10:00</td>\n",
       "      <td>GratitudeNow</td>\n",
       "      <td>Twitter</td>\n",
       "      <td>#Gratitude #PositiveVibes</td>\n",
       "      <td>25.0</td>\n",
       "      <td>50.0</td>\n",
       "      <td>India</td>\n",
       "      <td>2023</td>\n",
       "      <td>1</td>\n",
       "      <td>16</td>\n",
       "      <td>9</td>\n",
       "    </tr>\n",
       "    <tr>\n",
       "      <th>6</th>\n",
       "      <td>6</td>\n",
       "      <td>6</td>\n",
       "      <td>Rainy days call for cozy blankets and hot coc...</td>\n",
       "      <td>Positive</td>\n",
       "      <td>2023-01-16 14:45:00</td>\n",
       "      <td>RainyDays</td>\n",
       "      <td>Facebook</td>\n",
       "      <td>#RainyDays #Cozy</td>\n",
       "      <td>10.0</td>\n",
       "      <td>20.0</td>\n",
       "      <td>Canada</td>\n",
       "      <td>2023</td>\n",
       "      <td>1</td>\n",
       "      <td>16</td>\n",
       "      <td>14</td>\n",
       "    </tr>\n",
       "    <tr>\n",
       "      <th>7</th>\n",
       "      <td>7</td>\n",
       "      <td>7</td>\n",
       "      <td>The new movie release is a must-watch!       ...</td>\n",
       "      <td>Positive</td>\n",
       "      <td>2023-01-16 19:30:00</td>\n",
       "      <td>MovieBuff</td>\n",
       "      <td>Instagram</td>\n",
       "      <td>#MovieNight #MustWatch</td>\n",
       "      <td>15.0</td>\n",
       "      <td>30.0</td>\n",
       "      <td>USA</td>\n",
       "      <td>2023</td>\n",
       "      <td>1</td>\n",
       "      <td>16</td>\n",
       "      <td>19</td>\n",
       "    </tr>\n",
       "    <tr>\n",
       "      <th>8</th>\n",
       "      <td>8</td>\n",
       "      <td>8</td>\n",
       "      <td>Political discussions heating up on the timel...</td>\n",
       "      <td>Negative</td>\n",
       "      <td>2023-01-17 08:00:00</td>\n",
       "      <td>DebateTalk</td>\n",
       "      <td>Twitter</td>\n",
       "      <td>#Politics #Debate</td>\n",
       "      <td>30.0</td>\n",
       "      <td>60.0</td>\n",
       "      <td>USA</td>\n",
       "      <td>2023</td>\n",
       "      <td>1</td>\n",
       "      <td>17</td>\n",
       "      <td>8</td>\n",
       "    </tr>\n",
       "    <tr>\n",
       "      <th>9</th>\n",
       "      <td>9</td>\n",
       "      <td>9</td>\n",
       "      <td>Missing summer vibes and beach days.         ...</td>\n",
       "      <td>Neutral</td>\n",
       "      <td>2023-01-17 12:20:00</td>\n",
       "      <td>BeachLover</td>\n",
       "      <td>Facebook</td>\n",
       "      <td>#Summer #BeachDays</td>\n",
       "      <td>18.0</td>\n",
       "      <td>35.0</td>\n",
       "      <td>Australia</td>\n",
       "      <td>2023</td>\n",
       "      <td>1</td>\n",
       "      <td>17</td>\n",
       "      <td>12</td>\n",
       "    </tr>\n",
       "    <tr>\n",
       "      <th>10</th>\n",
       "      <td>10</td>\n",
       "      <td>10</td>\n",
       "      <td>Just published a new blog post. Check it out!...</td>\n",
       "      <td>Positive</td>\n",
       "      <td>2023-01-17 15:15:00</td>\n",
       "      <td>BloggerX</td>\n",
       "      <td>Instagram</td>\n",
       "      <td>#Blogging #NewPost</td>\n",
       "      <td>22.0</td>\n",
       "      <td>45.0</td>\n",
       "      <td>USA</td>\n",
       "      <td>2023</td>\n",
       "      <td>1</td>\n",
       "      <td>17</td>\n",
       "      <td>15</td>\n",
       "    </tr>\n",
       "    <tr>\n",
       "      <th>11</th>\n",
       "      <td>11</td>\n",
       "      <td>11</td>\n",
       "      <td>Feeling a bit under the weather today.       ...</td>\n",
       "      <td>Negative</td>\n",
       "      <td>2023-01-18 10:30:00</td>\n",
       "      <td>WellnessCheck</td>\n",
       "      <td>Twitter</td>\n",
       "      <td>#SickDay #Health</td>\n",
       "      <td>7.0</td>\n",
       "      <td>15.0</td>\n",
       "      <td>Canada</td>\n",
       "      <td>2023</td>\n",
       "      <td>1</td>\n",
       "      <td>18</td>\n",
       "      <td>10</td>\n",
       "    </tr>\n",
       "    <tr>\n",
       "      <th>12</th>\n",
       "      <td>12</td>\n",
       "      <td>12</td>\n",
       "      <td>Exploring the city's hidden gems.            ...</td>\n",
       "      <td>Positive</td>\n",
       "      <td>2023-01-18 14:50:00</td>\n",
       "      <td>UrbanExplorer</td>\n",
       "      <td>Facebook</td>\n",
       "      <td>#CityExplore #HiddenGems</td>\n",
       "      <td>12.0</td>\n",
       "      <td>25.0</td>\n",
       "      <td>UK</td>\n",
       "      <td>2023</td>\n",
       "      <td>1</td>\n",
       "      <td>18</td>\n",
       "      <td>14</td>\n",
       "    </tr>\n",
       "    <tr>\n",
       "      <th>13</th>\n",
       "      <td>13</td>\n",
       "      <td>13</td>\n",
       "      <td>New year, new fitness goals! 💪               ...</td>\n",
       "      <td>Positive</td>\n",
       "      <td>2023-01-18 18:00:00</td>\n",
       "      <td>FitJourney</td>\n",
       "      <td>Instagram</td>\n",
       "      <td>#NewYear #FitnessGoals</td>\n",
       "      <td>28.0</td>\n",
       "      <td>55.0</td>\n",
       "      <td>USA</td>\n",
       "      <td>2023</td>\n",
       "      <td>1</td>\n",
       "      <td>18</td>\n",
       "      <td>18</td>\n",
       "    </tr>\n",
       "    <tr>\n",
       "      <th>14</th>\n",
       "      <td>14</td>\n",
       "      <td>14</td>\n",
       "      <td>Technology is changing the way we live.      ...</td>\n",
       "      <td>Neutral</td>\n",
       "      <td>2023-01-19 09:45:00</td>\n",
       "      <td>TechEnthusiast</td>\n",
       "      <td>Twitter</td>\n",
       "      <td>#Tech #Innovation</td>\n",
       "      <td>15.0</td>\n",
       "      <td>30.0</td>\n",
       "      <td>India</td>\n",
       "      <td>2023</td>\n",
       "      <td>1</td>\n",
       "      <td>19</td>\n",
       "      <td>9</td>\n",
       "    </tr>\n",
       "    <tr>\n",
       "      <th>15</th>\n",
       "      <td>15</td>\n",
       "      <td>15</td>\n",
       "      <td>Reflecting on the past and looking ahead.    ...</td>\n",
       "      <td>Positive</td>\n",
       "      <td>2023-01-19 13:20:00</td>\n",
       "      <td>Reflections</td>\n",
       "      <td>Facebook</td>\n",
       "      <td>#Reflection #Future</td>\n",
       "      <td>20.0</td>\n",
       "      <td>40.0</td>\n",
       "      <td>USA</td>\n",
       "      <td>2023</td>\n",
       "      <td>1</td>\n",
       "      <td>19</td>\n",
       "      <td>13</td>\n",
       "    </tr>\n",
       "    <tr>\n",
       "      <th>16</th>\n",
       "      <td>16</td>\n",
       "      <td>16</td>\n",
       "      <td>Just adopted a cute furry friend! 🐾          ...</td>\n",
       "      <td>Positive</td>\n",
       "      <td>2023-01-19 17:10:00</td>\n",
       "      <td>PetAdopter</td>\n",
       "      <td>Instagram</td>\n",
       "      <td>#PetAdoption #FurryFriend</td>\n",
       "      <td>15.0</td>\n",
       "      <td>30.0</td>\n",
       "      <td>Canada</td>\n",
       "      <td>2023</td>\n",
       "      <td>1</td>\n",
       "      <td>19</td>\n",
       "      <td>17</td>\n",
       "    </tr>\n",
       "    <tr>\n",
       "      <th>17</th>\n",
       "      <td>17</td>\n",
       "      <td>17</td>\n",
       "      <td>Late-night gaming session with friends.      ...</td>\n",
       "      <td>Positive</td>\n",
       "      <td>2023-01-20 00:05:00</td>\n",
       "      <td>GamerX</td>\n",
       "      <td>Twitter</td>\n",
       "      <td>#Gaming #LateNight</td>\n",
       "      <td>18.0</td>\n",
       "      <td>35.0</td>\n",
       "      <td>UK</td>\n",
       "      <td>2023</td>\n",
       "      <td>1</td>\n",
       "      <td>20</td>\n",
       "      <td>0</td>\n",
       "    </tr>\n",
       "    <tr>\n",
       "      <th>18</th>\n",
       "      <td>18</td>\n",
       "      <td>18</td>\n",
       "      <td>Attending a virtual conference on AI.        ...</td>\n",
       "      <td>Neutral</td>\n",
       "      <td>2023-01-20 11:30:00</td>\n",
       "      <td>TechConference</td>\n",
       "      <td>Facebook</td>\n",
       "      <td>#AI #TechConference</td>\n",
       "      <td>25.0</td>\n",
       "      <td>50.0</td>\n",
       "      <td>USA</td>\n",
       "      <td>2023</td>\n",
       "      <td>1</td>\n",
       "      <td>20</td>\n",
       "      <td>11</td>\n",
       "    </tr>\n",
       "    <tr>\n",
       "      <th>19</th>\n",
       "      <td>19</td>\n",
       "      <td>19</td>\n",
       "      <td>Winter blues got me feeling low.             ...</td>\n",
       "      <td>Negative</td>\n",
       "      <td>2023-01-20 15:15:00</td>\n",
       "      <td>WinterBlues</td>\n",
       "      <td>Instagram</td>\n",
       "      <td>#WinterBlues #Mood</td>\n",
       "      <td>8.0</td>\n",
       "      <td>15.0</td>\n",
       "      <td>USA</td>\n",
       "      <td>2023</td>\n",
       "      <td>1</td>\n",
       "      <td>20</td>\n",
       "      <td>15</td>\n",
       "    </tr>\n",
       "  </tbody>\n",
       "</table>\n",
       "</div>"
      ],
      "text/plain": [
       "    Unnamed: 0.1  Unnamed: 0  \\\n",
       "0              0           0   \n",
       "1              1           1   \n",
       "2              2           2   \n",
       "3              3           3   \n",
       "4              4           4   \n",
       "5              5           5   \n",
       "6              6           6   \n",
       "7              7           7   \n",
       "8              8           8   \n",
       "9              9           9   \n",
       "10            10          10   \n",
       "11            11          11   \n",
       "12            12          12   \n",
       "13            13          13   \n",
       "14            14          14   \n",
       "15            15          15   \n",
       "16            16          16   \n",
       "17            17          17   \n",
       "18            18          18   \n",
       "19            19          19   \n",
       "\n",
       "                                                 Text    Sentiment  \\\n",
       "0    Enjoying a beautiful day at the park!        ...   Positive     \n",
       "1    Traffic was terrible this morning.           ...   Negative     \n",
       "2    Just finished an amazing workout! 💪          ...   Positive     \n",
       "3    Excited about the upcoming weekend getaway!  ...   Positive     \n",
       "4    Trying out a new recipe for dinner tonight.  ...   Neutral      \n",
       "5    Feeling grateful for the little things in lif...   Positive     \n",
       "6    Rainy days call for cozy blankets and hot coc...   Positive     \n",
       "7    The new movie release is a must-watch!       ...   Positive     \n",
       "8    Political discussions heating up on the timel...   Negative     \n",
       "9    Missing summer vibes and beach days.         ...   Neutral      \n",
       "10   Just published a new blog post. Check it out!...   Positive     \n",
       "11   Feeling a bit under the weather today.       ...   Negative     \n",
       "12   Exploring the city's hidden gems.            ...   Positive     \n",
       "13   New year, new fitness goals! 💪               ...   Positive     \n",
       "14   Technology is changing the way we live.      ...   Neutral      \n",
       "15   Reflecting on the past and looking ahead.    ...   Positive     \n",
       "16   Just adopted a cute furry friend! 🐾          ...   Positive     \n",
       "17   Late-night gaming session with friends.      ...   Positive     \n",
       "18   Attending a virtual conference on AI.        ...   Neutral      \n",
       "19   Winter blues got me feeling low.             ...   Negative     \n",
       "\n",
       "              Timestamp             User     Platform  \\\n",
       "0   2023-01-15 12:30:00    User123          Twitter     \n",
       "1   2023-01-15 08:45:00    CommuterX        Twitter     \n",
       "2   2023-01-15 15:45:00    FitnessFan      Instagram    \n",
       "3   2023-01-15 18:20:00    AdventureX       Facebook    \n",
       "4   2023-01-15 19:55:00    ChefCook        Instagram    \n",
       "5   2023-01-16 09:10:00    GratitudeNow     Twitter     \n",
       "6   2023-01-16 14:45:00    RainyDays        Facebook    \n",
       "7   2023-01-16 19:30:00    MovieBuff       Instagram    \n",
       "8   2023-01-17 08:00:00    DebateTalk       Twitter     \n",
       "9   2023-01-17 12:20:00    BeachLover       Facebook    \n",
       "10  2023-01-17 15:15:00    BloggerX        Instagram    \n",
       "11  2023-01-18 10:30:00    WellnessCheck    Twitter     \n",
       "12  2023-01-18 14:50:00    UrbanExplorer    Facebook    \n",
       "13  2023-01-18 18:00:00    FitJourney      Instagram    \n",
       "14  2023-01-19 09:45:00   TechEnthusiast    Twitter     \n",
       "15  2023-01-19 13:20:00    Reflections      Facebook    \n",
       "16  2023-01-19 17:10:00    PetAdopter      Instagram    \n",
       "17  2023-01-20 00:05:00    GamerX           Twitter     \n",
       "18  2023-01-20 11:30:00   TechConference    Facebook    \n",
       "19  2023-01-20 15:15:00    WinterBlues     Instagram    \n",
       "\n",
       "                                      Hashtags  Retweets  Likes       Country  \\\n",
       "0    #Nature #Park                                  15.0   30.0     USA         \n",
       "1    #Traffic #Morning                               5.0   10.0     Canada      \n",
       "2    #Fitness #Workout                              20.0   40.0   USA           \n",
       "3    #Travel #Adventure                              8.0   15.0     UK          \n",
       "4    #Cooking #Food                                 12.0   25.0    Australia    \n",
       "5      #Gratitude #PositiveVibes                    25.0   50.0     India       \n",
       "6    #RainyDays #Cozy                               10.0   20.0     Canada      \n",
       "7     #MovieNight #MustWatch                        15.0   30.0       USA       \n",
       "8     #Politics #Debate                             30.0   60.0     USA         \n",
       "9     #Summer #BeachDays                            18.0   35.0    Australia    \n",
       "10    #Blogging #NewPost                            22.0   45.0           USA   \n",
       "11    #SickDay #Health                               7.0   15.0     Canada      \n",
       "12    #CityExplore #HiddenGems                      12.0   25.0     UK          \n",
       "13    #NewYear #FitnessGoals                        28.0   55.0   USA           \n",
       "14    #Tech #Innovation                             15.0   30.0     India       \n",
       "15    #Reflection #Future                           20.0   40.0     USA         \n",
       "16    #PetAdoption #FurryFriend                     15.0   30.0    Canada       \n",
       "17    #Gaming #LateNight                            18.0   35.0     UK          \n",
       "18    #AI #TechConference                           25.0   50.0           USA   \n",
       "19    #WinterBlues #Mood                             8.0   15.0    USA          \n",
       "\n",
       "    Year  Month  Day  Hour  \n",
       "0   2023      1   15    12  \n",
       "1   2023      1   15     8  \n",
       "2   2023      1   15    15  \n",
       "3   2023      1   15    18  \n",
       "4   2023      1   15    19  \n",
       "5   2023      1   16     9  \n",
       "6   2023      1   16    14  \n",
       "7   2023      1   16    19  \n",
       "8   2023      1   17     8  \n",
       "9   2023      1   17    12  \n",
       "10  2023      1   17    15  \n",
       "11  2023      1   18    10  \n",
       "12  2023      1   18    14  \n",
       "13  2023      1   18    18  \n",
       "14  2023      1   19     9  \n",
       "15  2023      1   19    13  \n",
       "16  2023      1   19    17  \n",
       "17  2023      1   20     0  \n",
       "18  2023      1   20    11  \n",
       "19  2023      1   20    15  "
      ]
     },
     "execution_count": 21,
     "metadata": {},
     "output_type": "execute_result"
    }
   ],
   "source": [
    "data.head(20)"
   ]
  },
  {
   "cell_type": "code",
   "execution_count": 22,
   "id": "ebd6bd07-4ab9-41e0-b4ed-537e95d75dae",
   "metadata": {},
   "outputs": [
    {
     "data": {
      "text/plain": [
       "Unnamed: 0.1      int64\n",
       "Unnamed: 0        int64\n",
       "Text             object\n",
       "Sentiment        object\n",
       "Timestamp        object\n",
       "User             object\n",
       "Platform         object\n",
       "Hashtags         object\n",
       "Retweets        float64\n",
       "Likes           float64\n",
       "Country          object\n",
       "Year              int64\n",
       "Month             int64\n",
       "Day               int64\n",
       "Hour              int64\n",
       "dtype: object"
      ]
     },
     "execution_count": 22,
     "metadata": {},
     "output_type": "execute_result"
    }
   ],
   "source": [
    "data.dtypes"
   ]
  },
  {
   "cell_type": "code",
   "execution_count": 23,
   "id": "ac315b38-0610-4930-a00c-bf82ba291e95",
   "metadata": {},
   "outputs": [
    {
     "data": {
      "text/plain": [
       "Unnamed: 0.1    0\n",
       "Unnamed: 0      0\n",
       "Text            0\n",
       "Sentiment       0\n",
       "Timestamp       0\n",
       "User            0\n",
       "Platform        0\n",
       "Hashtags        0\n",
       "Retweets        0\n",
       "Likes           0\n",
       "Country         0\n",
       "Year            0\n",
       "Month           0\n",
       "Day             0\n",
       "Hour            0\n",
       "dtype: int64"
      ]
     },
     "execution_count": 23,
     "metadata": {},
     "output_type": "execute_result"
    }
   ],
   "source": [
    "data.isnull().sum()"
   ]
  },
  {
   "cell_type": "code",
   "execution_count": 24,
   "id": "e7b97858-0698-4cef-a19d-5da2fd27fa6f",
   "metadata": {},
   "outputs": [
    {
     "data": {
      "text/html": [
       "<div>\n",
       "<style scoped>\n",
       "    .dataframe tbody tr th:only-of-type {\n",
       "        vertical-align: middle;\n",
       "    }\n",
       "\n",
       "    .dataframe tbody tr th {\n",
       "        vertical-align: top;\n",
       "    }\n",
       "\n",
       "    .dataframe thead th {\n",
       "        text-align: right;\n",
       "    }\n",
       "</style>\n",
       "<table border=\"1\" class=\"dataframe\">\n",
       "  <thead>\n",
       "    <tr style=\"text-align: right;\">\n",
       "      <th></th>\n",
       "      <th>Unnamed: 0</th>\n",
       "      <th>Text</th>\n",
       "      <th>Sentiment</th>\n",
       "      <th>Timestamp</th>\n",
       "      <th>User</th>\n",
       "      <th>Platform</th>\n",
       "      <th>Hashtags</th>\n",
       "      <th>Retweets</th>\n",
       "      <th>Likes</th>\n",
       "      <th>Country</th>\n",
       "      <th>Year</th>\n",
       "    </tr>\n",
       "  </thead>\n",
       "  <tbody>\n",
       "    <tr>\n",
       "      <th>0</th>\n",
       "      <td>0</td>\n",
       "      <td>Enjoying a beautiful day at the park!        ...</td>\n",
       "      <td>Positive</td>\n",
       "      <td>2023-01-15 12:30:00</td>\n",
       "      <td>User123</td>\n",
       "      <td>Twitter</td>\n",
       "      <td>#Nature #Park</td>\n",
       "      <td>15.0</td>\n",
       "      <td>30.0</td>\n",
       "      <td>USA</td>\n",
       "      <td>2023</td>\n",
       "    </tr>\n",
       "    <tr>\n",
       "      <th>1</th>\n",
       "      <td>1</td>\n",
       "      <td>Traffic was terrible this morning.           ...</td>\n",
       "      <td>Negative</td>\n",
       "      <td>2023-01-15 08:45:00</td>\n",
       "      <td>CommuterX</td>\n",
       "      <td>Twitter</td>\n",
       "      <td>#Traffic #Morning</td>\n",
       "      <td>5.0</td>\n",
       "      <td>10.0</td>\n",
       "      <td>Canada</td>\n",
       "      <td>2023</td>\n",
       "    </tr>\n",
       "    <tr>\n",
       "      <th>2</th>\n",
       "      <td>2</td>\n",
       "      <td>Just finished an amazing workout! 💪          ...</td>\n",
       "      <td>Positive</td>\n",
       "      <td>2023-01-15 15:45:00</td>\n",
       "      <td>FitnessFan</td>\n",
       "      <td>Instagram</td>\n",
       "      <td>#Fitness #Workout</td>\n",
       "      <td>20.0</td>\n",
       "      <td>40.0</td>\n",
       "      <td>USA</td>\n",
       "      <td>2023</td>\n",
       "    </tr>\n",
       "    <tr>\n",
       "      <th>3</th>\n",
       "      <td>3</td>\n",
       "      <td>Excited about the upcoming weekend getaway!  ...</td>\n",
       "      <td>Positive</td>\n",
       "      <td>2023-01-15 18:20:00</td>\n",
       "      <td>AdventureX</td>\n",
       "      <td>Facebook</td>\n",
       "      <td>#Travel #Adventure</td>\n",
       "      <td>8.0</td>\n",
       "      <td>15.0</td>\n",
       "      <td>UK</td>\n",
       "      <td>2023</td>\n",
       "    </tr>\n",
       "    <tr>\n",
       "      <th>4</th>\n",
       "      <td>4</td>\n",
       "      <td>Trying out a new recipe for dinner tonight.  ...</td>\n",
       "      <td>Neutral</td>\n",
       "      <td>2023-01-15 19:55:00</td>\n",
       "      <td>ChefCook</td>\n",
       "      <td>Instagram</td>\n",
       "      <td>#Cooking #Food</td>\n",
       "      <td>12.0</td>\n",
       "      <td>25.0</td>\n",
       "      <td>Australia</td>\n",
       "      <td>2023</td>\n",
       "    </tr>\n",
       "    <tr>\n",
       "      <th>5</th>\n",
       "      <td>5</td>\n",
       "      <td>Feeling grateful for the little things in lif...</td>\n",
       "      <td>Positive</td>\n",
       "      <td>2023-01-16 09:10:00</td>\n",
       "      <td>GratitudeNow</td>\n",
       "      <td>Twitter</td>\n",
       "      <td>#Gratitude #PositiveVibes</td>\n",
       "      <td>25.0</td>\n",
       "      <td>50.0</td>\n",
       "      <td>India</td>\n",
       "      <td>2023</td>\n",
       "    </tr>\n",
       "    <tr>\n",
       "      <th>6</th>\n",
       "      <td>6</td>\n",
       "      <td>Rainy days call for cozy blankets and hot coc...</td>\n",
       "      <td>Positive</td>\n",
       "      <td>2023-01-16 14:45:00</td>\n",
       "      <td>RainyDays</td>\n",
       "      <td>Facebook</td>\n",
       "      <td>#RainyDays #Cozy</td>\n",
       "      <td>10.0</td>\n",
       "      <td>20.0</td>\n",
       "      <td>Canada</td>\n",
       "      <td>2023</td>\n",
       "    </tr>\n",
       "    <tr>\n",
       "      <th>7</th>\n",
       "      <td>7</td>\n",
       "      <td>The new movie release is a must-watch!       ...</td>\n",
       "      <td>Positive</td>\n",
       "      <td>2023-01-16 19:30:00</td>\n",
       "      <td>MovieBuff</td>\n",
       "      <td>Instagram</td>\n",
       "      <td>#MovieNight #MustWatch</td>\n",
       "      <td>15.0</td>\n",
       "      <td>30.0</td>\n",
       "      <td>USA</td>\n",
       "      <td>2023</td>\n",
       "    </tr>\n",
       "    <tr>\n",
       "      <th>8</th>\n",
       "      <td>8</td>\n",
       "      <td>Political discussions heating up on the timel...</td>\n",
       "      <td>Negative</td>\n",
       "      <td>2023-01-17 08:00:00</td>\n",
       "      <td>DebateTalk</td>\n",
       "      <td>Twitter</td>\n",
       "      <td>#Politics #Debate</td>\n",
       "      <td>30.0</td>\n",
       "      <td>60.0</td>\n",
       "      <td>USA</td>\n",
       "      <td>2023</td>\n",
       "    </tr>\n",
       "    <tr>\n",
       "      <th>9</th>\n",
       "      <td>9</td>\n",
       "      <td>Missing summer vibes and beach days.         ...</td>\n",
       "      <td>Neutral</td>\n",
       "      <td>2023-01-17 12:20:00</td>\n",
       "      <td>BeachLover</td>\n",
       "      <td>Facebook</td>\n",
       "      <td>#Summer #BeachDays</td>\n",
       "      <td>18.0</td>\n",
       "      <td>35.0</td>\n",
       "      <td>Australia</td>\n",
       "      <td>2023</td>\n",
       "    </tr>\n",
       "    <tr>\n",
       "      <th>10</th>\n",
       "      <td>10</td>\n",
       "      <td>Just published a new blog post. Check it out!...</td>\n",
       "      <td>Positive</td>\n",
       "      <td>2023-01-17 15:15:00</td>\n",
       "      <td>BloggerX</td>\n",
       "      <td>Instagram</td>\n",
       "      <td>#Blogging #NewPost</td>\n",
       "      <td>22.0</td>\n",
       "      <td>45.0</td>\n",
       "      <td>USA</td>\n",
       "      <td>2023</td>\n",
       "    </tr>\n",
       "    <tr>\n",
       "      <th>11</th>\n",
       "      <td>11</td>\n",
       "      <td>Feeling a bit under the weather today.       ...</td>\n",
       "      <td>Negative</td>\n",
       "      <td>2023-01-18 10:30:00</td>\n",
       "      <td>WellnessCheck</td>\n",
       "      <td>Twitter</td>\n",
       "      <td>#SickDay #Health</td>\n",
       "      <td>7.0</td>\n",
       "      <td>15.0</td>\n",
       "      <td>Canada</td>\n",
       "      <td>2023</td>\n",
       "    </tr>\n",
       "    <tr>\n",
       "      <th>12</th>\n",
       "      <td>12</td>\n",
       "      <td>Exploring the city's hidden gems.            ...</td>\n",
       "      <td>Positive</td>\n",
       "      <td>2023-01-18 14:50:00</td>\n",
       "      <td>UrbanExplorer</td>\n",
       "      <td>Facebook</td>\n",
       "      <td>#CityExplore #HiddenGems</td>\n",
       "      <td>12.0</td>\n",
       "      <td>25.0</td>\n",
       "      <td>UK</td>\n",
       "      <td>2023</td>\n",
       "    </tr>\n",
       "    <tr>\n",
       "      <th>13</th>\n",
       "      <td>13</td>\n",
       "      <td>New year, new fitness goals! 💪               ...</td>\n",
       "      <td>Positive</td>\n",
       "      <td>2023-01-18 18:00:00</td>\n",
       "      <td>FitJourney</td>\n",
       "      <td>Instagram</td>\n",
       "      <td>#NewYear #FitnessGoals</td>\n",
       "      <td>28.0</td>\n",
       "      <td>55.0</td>\n",
       "      <td>USA</td>\n",
       "      <td>2023</td>\n",
       "    </tr>\n",
       "    <tr>\n",
       "      <th>14</th>\n",
       "      <td>14</td>\n",
       "      <td>Technology is changing the way we live.      ...</td>\n",
       "      <td>Neutral</td>\n",
       "      <td>2023-01-19 09:45:00</td>\n",
       "      <td>TechEnthusiast</td>\n",
       "      <td>Twitter</td>\n",
       "      <td>#Tech #Innovation</td>\n",
       "      <td>15.0</td>\n",
       "      <td>30.0</td>\n",
       "      <td>India</td>\n",
       "      <td>2023</td>\n",
       "    </tr>\n",
       "  </tbody>\n",
       "</table>\n",
       "</div>"
      ],
      "text/plain": [
       "    Unnamed: 0                                               Text  \\\n",
       "0            0   Enjoying a beautiful day at the park!        ...   \n",
       "1            1   Traffic was terrible this morning.           ...   \n",
       "2            2   Just finished an amazing workout! 💪          ...   \n",
       "3            3   Excited about the upcoming weekend getaway!  ...   \n",
       "4            4   Trying out a new recipe for dinner tonight.  ...   \n",
       "5            5   Feeling grateful for the little things in lif...   \n",
       "6            6   Rainy days call for cozy blankets and hot coc...   \n",
       "7            7   The new movie release is a must-watch!       ...   \n",
       "8            8   Political discussions heating up on the timel...   \n",
       "9            9   Missing summer vibes and beach days.         ...   \n",
       "10          10   Just published a new blog post. Check it out!...   \n",
       "11          11   Feeling a bit under the weather today.       ...   \n",
       "12          12   Exploring the city's hidden gems.            ...   \n",
       "13          13   New year, new fitness goals! 💪               ...   \n",
       "14          14   Technology is changing the way we live.      ...   \n",
       "\n",
       "      Sentiment            Timestamp             User     Platform  \\\n",
       "0    Positive    2023-01-15 12:30:00    User123          Twitter     \n",
       "1    Negative    2023-01-15 08:45:00    CommuterX        Twitter     \n",
       "2    Positive    2023-01-15 15:45:00    FitnessFan      Instagram    \n",
       "3    Positive    2023-01-15 18:20:00    AdventureX       Facebook    \n",
       "4    Neutral     2023-01-15 19:55:00    ChefCook        Instagram    \n",
       "5    Positive    2023-01-16 09:10:00    GratitudeNow     Twitter     \n",
       "6    Positive    2023-01-16 14:45:00    RainyDays        Facebook    \n",
       "7    Positive    2023-01-16 19:30:00    MovieBuff       Instagram    \n",
       "8    Negative    2023-01-17 08:00:00    DebateTalk       Twitter     \n",
       "9    Neutral     2023-01-17 12:20:00    BeachLover       Facebook    \n",
       "10   Positive    2023-01-17 15:15:00    BloggerX        Instagram    \n",
       "11   Negative    2023-01-18 10:30:00    WellnessCheck    Twitter     \n",
       "12   Positive    2023-01-18 14:50:00    UrbanExplorer    Facebook    \n",
       "13   Positive    2023-01-18 18:00:00    FitJourney      Instagram    \n",
       "14   Neutral     2023-01-19 09:45:00   TechEnthusiast    Twitter     \n",
       "\n",
       "                                      Hashtags  Retweets  Likes       Country  \\\n",
       "0    #Nature #Park                                  15.0   30.0     USA         \n",
       "1    #Traffic #Morning                               5.0   10.0     Canada      \n",
       "2    #Fitness #Workout                              20.0   40.0   USA           \n",
       "3    #Travel #Adventure                              8.0   15.0     UK          \n",
       "4    #Cooking #Food                                 12.0   25.0    Australia    \n",
       "5      #Gratitude #PositiveVibes                    25.0   50.0     India       \n",
       "6    #RainyDays #Cozy                               10.0   20.0     Canada      \n",
       "7     #MovieNight #MustWatch                        15.0   30.0       USA       \n",
       "8     #Politics #Debate                             30.0   60.0     USA         \n",
       "9     #Summer #BeachDays                            18.0   35.0    Australia    \n",
       "10    #Blogging #NewPost                            22.0   45.0           USA   \n",
       "11    #SickDay #Health                               7.0   15.0     Canada      \n",
       "12    #CityExplore #HiddenGems                      12.0   25.0     UK          \n",
       "13    #NewYear #FitnessGoals                        28.0   55.0   USA           \n",
       "14    #Tech #Innovation                             15.0   30.0     India       \n",
       "\n",
       "    Year  \n",
       "0   2023  \n",
       "1   2023  \n",
       "2   2023  \n",
       "3   2023  \n",
       "4   2023  \n",
       "5   2023  \n",
       "6   2023  \n",
       "7   2023  \n",
       "8   2023  \n",
       "9   2023  \n",
       "10  2023  \n",
       "11  2023  \n",
       "12  2023  \n",
       "13  2023  \n",
       "14  2023  "
      ]
     },
     "execution_count": 24,
     "metadata": {},
     "output_type": "execute_result"
    }
   ],
   "source": [
    "data.drop(columns=['Unnamed: 0.1','Month','Day','Hour'],inplace=True)\n",
    "data.head(15)"
   ]
  },
  {
   "cell_type": "code",
   "execution_count": 25,
   "id": "37c3790c-627e-4810-813f-e7da1e635b69",
   "metadata": {},
   "outputs": [
    {
     "data": {
      "text/html": [
       "<div>\n",
       "<style scoped>\n",
       "    .dataframe tbody tr th:only-of-type {\n",
       "        vertical-align: middle;\n",
       "    }\n",
       "\n",
       "    .dataframe tbody tr th {\n",
       "        vertical-align: top;\n",
       "    }\n",
       "\n",
       "    .dataframe thead th {\n",
       "        text-align: right;\n",
       "    }\n",
       "</style>\n",
       "<table border=\"1\" class=\"dataframe\">\n",
       "  <thead>\n",
       "    <tr style=\"text-align: right;\">\n",
       "      <th></th>\n",
       "      <th>S.No.</th>\n",
       "      <th>Text</th>\n",
       "      <th>Sentiment</th>\n",
       "      <th>Timestamp</th>\n",
       "      <th>User</th>\n",
       "      <th>Platform</th>\n",
       "      <th>Hashtags</th>\n",
       "      <th>Retweets</th>\n",
       "      <th>Likes</th>\n",
       "      <th>Country</th>\n",
       "      <th>Year</th>\n",
       "    </tr>\n",
       "  </thead>\n",
       "  <tbody>\n",
       "    <tr>\n",
       "      <th>0</th>\n",
       "      <td>0</td>\n",
       "      <td>Enjoying a beautiful day at the park!        ...</td>\n",
       "      <td>Positive</td>\n",
       "      <td>2023-01-15 12:30:00</td>\n",
       "      <td>User123</td>\n",
       "      <td>Twitter</td>\n",
       "      <td>#Nature #Park</td>\n",
       "      <td>15.0</td>\n",
       "      <td>30.0</td>\n",
       "      <td>USA</td>\n",
       "      <td>2023</td>\n",
       "    </tr>\n",
       "    <tr>\n",
       "      <th>1</th>\n",
       "      <td>1</td>\n",
       "      <td>Traffic was terrible this morning.           ...</td>\n",
       "      <td>Negative</td>\n",
       "      <td>2023-01-15 08:45:00</td>\n",
       "      <td>CommuterX</td>\n",
       "      <td>Twitter</td>\n",
       "      <td>#Traffic #Morning</td>\n",
       "      <td>5.0</td>\n",
       "      <td>10.0</td>\n",
       "      <td>Canada</td>\n",
       "      <td>2023</td>\n",
       "    </tr>\n",
       "    <tr>\n",
       "      <th>2</th>\n",
       "      <td>2</td>\n",
       "      <td>Just finished an amazing workout! 💪          ...</td>\n",
       "      <td>Positive</td>\n",
       "      <td>2023-01-15 15:45:00</td>\n",
       "      <td>FitnessFan</td>\n",
       "      <td>Instagram</td>\n",
       "      <td>#Fitness #Workout</td>\n",
       "      <td>20.0</td>\n",
       "      <td>40.0</td>\n",
       "      <td>USA</td>\n",
       "      <td>2023</td>\n",
       "    </tr>\n",
       "    <tr>\n",
       "      <th>3</th>\n",
       "      <td>3</td>\n",
       "      <td>Excited about the upcoming weekend getaway!  ...</td>\n",
       "      <td>Positive</td>\n",
       "      <td>2023-01-15 18:20:00</td>\n",
       "      <td>AdventureX</td>\n",
       "      <td>Facebook</td>\n",
       "      <td>#Travel #Adventure</td>\n",
       "      <td>8.0</td>\n",
       "      <td>15.0</td>\n",
       "      <td>UK</td>\n",
       "      <td>2023</td>\n",
       "    </tr>\n",
       "    <tr>\n",
       "      <th>4</th>\n",
       "      <td>4</td>\n",
       "      <td>Trying out a new recipe for dinner tonight.  ...</td>\n",
       "      <td>Neutral</td>\n",
       "      <td>2023-01-15 19:55:00</td>\n",
       "      <td>ChefCook</td>\n",
       "      <td>Instagram</td>\n",
       "      <td>#Cooking #Food</td>\n",
       "      <td>12.0</td>\n",
       "      <td>25.0</td>\n",
       "      <td>Australia</td>\n",
       "      <td>2023</td>\n",
       "    </tr>\n",
       "    <tr>\n",
       "      <th>5</th>\n",
       "      <td>5</td>\n",
       "      <td>Feeling grateful for the little things in lif...</td>\n",
       "      <td>Positive</td>\n",
       "      <td>2023-01-16 09:10:00</td>\n",
       "      <td>GratitudeNow</td>\n",
       "      <td>Twitter</td>\n",
       "      <td>#Gratitude #PositiveVibes</td>\n",
       "      <td>25.0</td>\n",
       "      <td>50.0</td>\n",
       "      <td>India</td>\n",
       "      <td>2023</td>\n",
       "    </tr>\n",
       "    <tr>\n",
       "      <th>6</th>\n",
       "      <td>6</td>\n",
       "      <td>Rainy days call for cozy blankets and hot coc...</td>\n",
       "      <td>Positive</td>\n",
       "      <td>2023-01-16 14:45:00</td>\n",
       "      <td>RainyDays</td>\n",
       "      <td>Facebook</td>\n",
       "      <td>#RainyDays #Cozy</td>\n",
       "      <td>10.0</td>\n",
       "      <td>20.0</td>\n",
       "      <td>Canada</td>\n",
       "      <td>2023</td>\n",
       "    </tr>\n",
       "    <tr>\n",
       "      <th>7</th>\n",
       "      <td>7</td>\n",
       "      <td>The new movie release is a must-watch!       ...</td>\n",
       "      <td>Positive</td>\n",
       "      <td>2023-01-16 19:30:00</td>\n",
       "      <td>MovieBuff</td>\n",
       "      <td>Instagram</td>\n",
       "      <td>#MovieNight #MustWatch</td>\n",
       "      <td>15.0</td>\n",
       "      <td>30.0</td>\n",
       "      <td>USA</td>\n",
       "      <td>2023</td>\n",
       "    </tr>\n",
       "    <tr>\n",
       "      <th>8</th>\n",
       "      <td>8</td>\n",
       "      <td>Political discussions heating up on the timel...</td>\n",
       "      <td>Negative</td>\n",
       "      <td>2023-01-17 08:00:00</td>\n",
       "      <td>DebateTalk</td>\n",
       "      <td>Twitter</td>\n",
       "      <td>#Politics #Debate</td>\n",
       "      <td>30.0</td>\n",
       "      <td>60.0</td>\n",
       "      <td>USA</td>\n",
       "      <td>2023</td>\n",
       "    </tr>\n",
       "    <tr>\n",
       "      <th>9</th>\n",
       "      <td>9</td>\n",
       "      <td>Missing summer vibes and beach days.         ...</td>\n",
       "      <td>Neutral</td>\n",
       "      <td>2023-01-17 12:20:00</td>\n",
       "      <td>BeachLover</td>\n",
       "      <td>Facebook</td>\n",
       "      <td>#Summer #BeachDays</td>\n",
       "      <td>18.0</td>\n",
       "      <td>35.0</td>\n",
       "      <td>Australia</td>\n",
       "      <td>2023</td>\n",
       "    </tr>\n",
       "  </tbody>\n",
       "</table>\n",
       "</div>"
      ],
      "text/plain": [
       "   S.No.                                               Text    Sentiment  \\\n",
       "0      0   Enjoying a beautiful day at the park!        ...   Positive     \n",
       "1      1   Traffic was terrible this morning.           ...   Negative     \n",
       "2      2   Just finished an amazing workout! 💪          ...   Positive     \n",
       "3      3   Excited about the upcoming weekend getaway!  ...   Positive     \n",
       "4      4   Trying out a new recipe for dinner tonight.  ...   Neutral      \n",
       "5      5   Feeling grateful for the little things in lif...   Positive     \n",
       "6      6   Rainy days call for cozy blankets and hot coc...   Positive     \n",
       "7      7   The new movie release is a must-watch!       ...   Positive     \n",
       "8      8   Political discussions heating up on the timel...   Negative     \n",
       "9      9   Missing summer vibes and beach days.         ...   Neutral      \n",
       "\n",
       "            Timestamp            User     Platform  \\\n",
       "0 2023-01-15 12:30:00   User123          Twitter     \n",
       "1 2023-01-15 08:45:00   CommuterX        Twitter     \n",
       "2 2023-01-15 15:45:00   FitnessFan      Instagram    \n",
       "3 2023-01-15 18:20:00   AdventureX       Facebook    \n",
       "4 2023-01-15 19:55:00   ChefCook        Instagram    \n",
       "5 2023-01-16 09:10:00   GratitudeNow     Twitter     \n",
       "6 2023-01-16 14:45:00   RainyDays        Facebook    \n",
       "7 2023-01-16 19:30:00   MovieBuff       Instagram    \n",
       "8 2023-01-17 08:00:00   DebateTalk       Twitter     \n",
       "9 2023-01-17 12:20:00   BeachLover       Facebook    \n",
       "\n",
       "                                     Hashtags  Retweets  Likes       Country  \\\n",
       "0   #Nature #Park                                  15.0   30.0     USA         \n",
       "1   #Traffic #Morning                               5.0   10.0     Canada      \n",
       "2   #Fitness #Workout                              20.0   40.0   USA           \n",
       "3   #Travel #Adventure                              8.0   15.0     UK          \n",
       "4   #Cooking #Food                                 12.0   25.0    Australia    \n",
       "5     #Gratitude #PositiveVibes                    25.0   50.0     India       \n",
       "6   #RainyDays #Cozy                               10.0   20.0     Canada      \n",
       "7    #MovieNight #MustWatch                        15.0   30.0       USA       \n",
       "8    #Politics #Debate                             30.0   60.0     USA         \n",
       "9    #Summer #BeachDays                            18.0   35.0    Australia    \n",
       "\n",
       "   Year  \n",
       "0  2023  \n",
       "1  2023  \n",
       "2  2023  \n",
       "3  2023  \n",
       "4  2023  \n",
       "5  2023  \n",
       "6  2023  \n",
       "7  2023  \n",
       "8  2023  \n",
       "9  2023  "
      ]
     },
     "execution_count": 25,
     "metadata": {},
     "output_type": "execute_result"
    }
   ],
   "source": [
    "data.rename(columns={'Unnamed: 0':'S.No.'}, inplace=True)\n",
    "data['Timestamp'] = pd.to_datetime(data['Timestamp'])\n",
    "data.head(10)"
   ]
  },
  {
   "cell_type": "code",
   "execution_count": 69,
   "id": "75dc8e04-607b-41d3-93e9-19d2fbec34e0",
   "metadata": {},
   "outputs": [
    {
     "data": {
      "image/png": "[encoded data removed]",
      "text/plain": [
       "<Figure size 800x800 with 1 Axes>"
      ]
     },
     "metadata": {},
     "output_type": "display_data"
    }
   ],
   "source": [
    "sentiment_counts = data['Sentiment'].value_counts().head(20)\n",
    "plt.figure(figsize=(8, 8))\n",
    "plt.pie(sentiment_counts, labels=sentiment_counts.index, colors=sns.color_palette('pastel'), startangle=140)\n",
    "plt.title('Distribution of Sentiments')\n",
    "plt.show()"
   ]
  },
  {
   "cell_type": "code",
   "execution_count": 26,
   "id": "3f8029b6-626b-431a-8488-fcf218c43b7b",
   "metadata": {},
   "outputs": [
    {
     "data": {
      "application/vnd.plotly.v1+json": {
       "config": {
        "plotlyServerURL": "https://plot.ly"
       },
       "data": [
        {
         "alignmentgroup": "True",
         "bingroup": "x",
         "hovertemplate": "Platform= Twitter  <br>Sentiment=%{x}<br>count=%{y}<extra></extra>",
         "legendgroup": " Twitter  ",
         "marker": {
          "color": "#636efa",
          "pattern": {
           "shape": ""
          }
         },
         "name": " Twitter  ",
         "offsetgroup": " Twitter  ",
         "orientation": "v",
         "showlegend": true,
         "type": "histogram",
         "x": [
          " Positive  ",
          " Negative  ",
          " Positive  ",
          " Negative  ",
          " Negative  ",
          " Neutral   ",
          " Positive  ",
          " Positive  ",
          " Positive  ",
          " Positive  ",
          " Positive  ",
          " Positive  ",
          " Positive  ",
          " Positive  ",
          " Positive  ",
          " Positive  ",
          " Positive  ",
          " Anger        ",
          " Disgust      ",
          " Love         ",
          " Admiration   ",
          " Disappointed ",
          " Adoration    ",
          " Calmness     ",
          " Kind         ",
          " Anger        ",
          " Disgust      ",
          " Love         ",
          " Admiration   ",
          " Disappointed ",
          " Adoration    ",
          " Calmness     ",
          " Kind         ",
          " Acceptance   ",
          " Bitter       ",
          " Excitement ",
          " Shame ",
          " Elation       ",
          " Serenity      ",
          " Empowerment   ",
          " Arousal       ",
          " Reverence     ",
          " Contentment   ",
          " Hope          ",
          " Tenderness    ",
          " Fulfillment  ",
          " Elation       ",
          " Serenity      ",
          " Empowerment   ",
          " Arousal       ",
          " Reverence ",
          " Contentment   ",
          " Hope          ",
          " Tenderness    ",
          " Fulfillment   ",
          " Despair         ",
          " Jealousy        ",
          " Boredom         ",
          " Helplessness    ",
          " Disgust         ",
          " Loneliness ",
          " Frustration ",
          " Intimidation ",
          " Regret         ",
          " Grief           ",
          " Resentment      ",
          " Curiosity       ",
          " Numbness        ",
          " Ambivalence     ",
          " Serenity        ",
          " Confusion       ",
          " Nostalgia       ",
          " Determination   ",
          " Indifference    ",
          " Melancholy      ",
          " Acceptance      ",
          " Numbness        ",
          " Ambivalence     ",
          " Serenity        ",
          " Confusion       ",
          " Nostalgia       ",
          " Determination   ",
          " Determination ",
          " Calmness      ",
          " Gratitude   ",
          " Overjoyed     ",
          " Gratitude     ",
          " Contemplation ",
          " Satisfaction  ",
          " Anticipation  ",
          " Appreciation  ",
          " Enthusiasm    ",
          " Wonderment    ",
          " Happiness     ",
          " Intrigue      ",
          " DreamChaser   ",
          " Pensive ",
          " Creativity   ",
          " Rejuvenation ",
          " Adventure ",
          " Melodic       ",
          " Freedom       ",
          " Reflection    ",
          " ArtisticBurst ",
          " Rejuvenation ",
          " CulinaryOdyssey ",
          " Excitement   ",
          " Immersion ",
          " Gratitude    ",
          " Loneliness    ",
          " Betrayal      ",
          " Regret        ",
          " Disappointment ",
          " Sorrow      ",
          " Ruins      "
         ],
         "xaxis": "x",
         "yaxis": "y"
        },
        {
         "alignmentgroup": "True",
         "bingroup": "x",
         "hovertemplate": "Platform= Instagram <br>Sentiment=%{x}<br>count=%{y}<extra></extra>",
         "legendgroup": " Instagram ",
         "marker": {
          "color": "#EF553B",
          "pattern": {
           "shape": ""
          }
         },
         "name": " Instagram ",
         "offsetgroup": " Instagram ",
         "orientation": "v",
         "showlegend": true,
         "type": "histogram",
         "x": [
          " Positive  ",
          " Neutral   ",
          " Positive  ",
          " Positive  ",
          " Positive  ",
          " Positive  ",
          " Negative  ",
          " Positive  ",
          " Positive  ",
          " Positive  ",
          " Positive  ",
          " Positive  ",
          " Positive  ",
          " Positive  ",
          " Positive  ",
          " Positive  ",
          " Positive  ",
          " Positive  ",
          " Fear         ",
          " Happiness    ",
          " Amusement    ",
          " Affection    ",
          " Surprise     ",
          " Anticipation ",
          " Confusion    ",
          " Pride        ",
          " Fear         ",
          " Happiness    ",
          " Amusement    ",
          " Affection    ",
          " Surprise     ",
          " Anticipation ",
          " Confusion    ",
          " Pride        ",
          " Excitement   ",
          " Confusion ",
          " Pride        ",
          " Euphoria      ",
          " Gratitude     ",
          " Compassion    ",
          " Enthusiasm    ",
          " Elation       ",
          " Serenity      ",
          " Empowerment   ",
          " Arousal       ",
          " Reverence     ",
          " Euphoria      ",
          " Gratitude     ",
          " Compassion",
          " Enthusiasm    ",
          " Elation       ",
          " Serenity      ",
          " Empowerment   ",
          " Arousal       ",
          " Reverence ",
          " Grief           ",
          " Resentment      ",
          " Anxiety         ",
          " Envy            ",
          " Despair      ",
          " Jealousy        ",
          " Boredom         ",
          " Helplessness ",
          " Disgust         ",
          " Loneliness ",
          " Frustration     ",
          " Indifference    ",
          " Melancholy      ",
          " Acceptance      ",
          " Curiosity       ",
          " Numbness        ",
          " Ambivalence     ",
          " Serenity        ",
          " Confusion       ",
          " Nostalgia       ",
          " Determination   ",
          " Indifference    ",
          " Melancholy      ",
          " Acceptance      ",
          " Curiosity       ",
          " Numbness        ",
          " Ambivalence     ",
          " Serenity        ",
          " Numbness ",
          " Hopeful ",
          " Empathetic ",
          " Free-spirited ",
          " Confident ",
          " Curiosity ",
          " Zest ",
          " Hopeful ",
          " Contentment ",
          " Grateful ",
          " Playful ",
          " Compassionate ",
          " Hopeful ",
          " Contentment ",
          " Grateful ",
          " Playful ",
          " Compassionate ",
          " Hopeful ",
          " Despair ",
          " Yearning ",
          " Overwhelmed ",
          " Frustrated ",
          " Frustrated ",
          " Bitterness ",
          " Devastated ",
          " Dismissive ",
          " Loneliness ",
          " Apprehensive ",
          " Devastated ",
          " Dismissive ",
          " Awe           ",
          " Thrill        ",
          " Excitement ",
          " Bittersweet ",
          " Admiration    ",
          " Inspiration   ",
          " Empowerment   ",
          " JoyfulReunion ",
          " Blessed       ",
          " Reflection    ",
          " Confidence    ",
          " Surprise      ",
          " Optimism      ",
          " Elation       ",
          " Enchantment   ",
          " Mindfulness   ",
          " Whimsy        ",
          " Harmony    ",
          " Wonder     ",
          " Coziness     ",
          " Euphoria   ",
          " Enchantment   ",
          " InnerJourney  ",
          " Whimsy        ",
          " Harmony       ",
          " Wonder       ",
          " Coziness     ",
          " Euphoria     ",
          " Curiosity  ",
          " Contentment ",
          " Nostalgia ",
          " Marvel       ",
          " Heartbreak    ",
          " Despair   ",
          " EmotionalStorm ",
          " Isolation ",
          " Despair   ",
          " Exhaustion ",
          " Desperation ",
          " Regret ",
          " Bitterness ",
          " Grief ",
          " Isolation ",
          " Sorrow ",
          " Betrayal ",
          " Loss ",
          " Heartache ",
          " Betrayal ",
          " Regret ",
          " Solitude ",
          " Joy ",
          " Enthusiasm ",
          " Positivity ",
          " Friendship ",
          " Joy ",
          " Curiosity ",
          " Success ",
          " Thrill ",
          " Enchantment ",
          " Joy ",
          " Awe ",
          " Romance ",
          " Excitement ",
          " Wonder ",
          " Exploration ",
          " Grandeur ",
          " Emotion ",
          " Nostalgia ",
          " Celebration ",
          " Hope ",
          " Enthusiasm ",
          " Colorful ",
          " Connection ",
          " Journey ",
          " Nostalgia ",
          " Touched ",
          " Contemplation ",
          " Joy ",
          " Admiration ",
          " Awe ",
          " Heartwarming ",
          " Frustration ",
          " Sympathy ",
          " Miscalculation ",
          " Tranquility ",
          " Creativity ",
          " Joy in Baking ",
          " Vibrancy ",
          " Culinary Adventure ",
          " Nature's Beauty ",
          " Runway Creativity ",
          " Boredom ",
          " Surprise ",
          " Disgust ",
          " Excitement ",
          " Frustration ",
          " Excitement ",
          " Excitement ",
          " Contentment ",
          " Contentment ",
          " Joy ",
          " Joy ",
          " Contentment ",
          " Curiosity ",
          " Joy ",
          " Excitement ",
          " Contentment ",
          " Joy ",
          " Excitement ",
          " Joy ",
          " Gratitude ",
          " Gratitude ",
          " Relief ",
          " Joy ",
          " Embarrassed ",
          " Joy ",
          " Excitement ",
          " Mischievous ",
          " Embarrassed ",
          " Joy ",
          " Excitement ",
          " Embarrassed ",
          " Excitement ",
          " Joy ",
          " Joy ",
          " Excitement ",
          " Excitement ",
          " Hate ",
          " Hate ",
          " Sad ",
          " Sad ",
          " Sad ",
          " Bad ",
          " Bad ",
          " Neutral ",
          " Neutral ",
          " Neutral ",
          " Neutral ",
          " Neutral ",
          " Happy ",
          " Happy ",
          " Happy ",
          " Happy ",
          " Happy ",
          " Happy "
         ],
         "xaxis": "x",
         "yaxis": "y"
        },
        {
         "alignmentgroup": "True",
         "bingroup": "x",
         "hovertemplate": "Platform= Facebook <br>Sentiment=%{x}<br>count=%{y}<extra></extra>",
         "legendgroup": " Facebook ",
         "marker": {
          "color": "#00cc96",
          "pattern": {
           "shape": ""
          }
         },
         "name": " Facebook ",
         "offsetgroup": " Facebook ",
         "orientation": "v",
         "showlegend": true,
         "type": "histogram",
         "x": [
          " Positive  ",
          " Positive  ",
          " Neutral   ",
          " Positive  ",
          " Positive  ",
          " Neutral   ",
          " Positive  ",
          " Positive  ",
          " Positive  ",
          " Positive  ",
          " Positive  ",
          " Positive  ",
          " Positive  ",
          " Positive  ",
          " Positive  ",
          " Positive  ",
          " Positive  ",
          " Sadness      ",
          " Joy          ",
          " Enjoyment    ",
          " Awe          ",
          " Acceptance   ",
          " Bitter       ",
          " Excitement   ",
          " Shame        ",
          " Sadness      ",
          " Joy          ",
          " Enjoyment    ",
          " Awe          ",
          " Acceptance   ",
          " Bitter       ",
          " Excitement   ",
          " Shame        ",
          " Calmness     ",
          " Kind         ",
          " Contentment   ",
          " Hope          ",
          " Tenderness    ",
          " Fulfillment  ",
          " Euphoria      ",
          " Gratitude     ",
          " Compassion    ",
          " Enthusiasm    ",
          " Elation       ",
          " Contentment   ",
          " Hope          ",
          " Tenderness    ",
          " Fulfillment   ",
          " Euphoria      ",
          " Gratitude     ",
          " Compassion    ",
          " Enthusiasm    ",
          " Elation   ",
          " Loneliness      ",
          " Frustration     ",
          " Intimidation    ",
          " Regret         ",
          " Grief           ",
          " Resentment      ",
          " Anxiety   ",
          " Envy            ",
          " Despair         ",
          " Jealousy    ",
          " Boredom         ",
          " Confusion       ",
          " Nostalgia       ",
          " Determination   ",
          " Indifference    ",
          " Melancholy      ",
          " Acceptance      ",
          " Curiosity       ",
          " Numbness        ",
          " Ambivalence     ",
          " Serenity        ",
          " Confusion       ",
          " Nostalgia       ",
          " Determination   ",
          " Indifference    ",
          " Melancholy      ",
          " Acceptance      ",
          " Curiosity       ",
          " Contentment ",
          " Grateful ",
          " Playful ",
          " Hopeful ",
          " Ambivalence ",
          " Compassionate ",
          " Playful ",
          " Empathetic ",
          " Confident ",
          " Inspired ",
          " Playful ",
          " Empathetic ",
          " Confident ",
          " Inspired ",
          " Playful ",
          " Bitterness ",
          " Fearful ",
          " Jealous ",
          " Envious ",
          " Loneliness ",
          " Overwhelmed ",
          " Frustrated ",
          " Despair ",
          " Yearning ",
          " Overwhelmed ",
          " Frustrated ",
          " Loneliness ",
          " Nostalgia      ",
          " Overwhelmed   ",
          " Curiosity     ",
          " Motivation    ",
          " Amusement     ",
          " Excitement    ",
          " Serenity      ",
          " Nostalgia     ",
          " Contentment   ",
          " Accomplishment ",
          " Pride         ",
          " Curiosity   ",
          " PlayfulJoy    ",
          " Elegance ",
          " Thrill      ",
          " Radiance    ",
          " Inspiration ",
          " Gratitude  ",
          " Awe    ",
          " FestiveJoy    ",
          " Dazzle        ",
          " Adrenaline     ",
          " Radiance      ",
          " Inspiration  ",
          " Gratitude  ",
          " Awe    ",
          " Resilience   ",
          " Spark        ",
          " Serenity   ",
          " Grief      ",
          " Suffering ",
          " Grief      ",
          " LostLove ",
          " Bitterness ",
          " Darkness     ",
          " Grief ",
          " Desolation ",
          " Betrayal ",
          " Despair ",
          " Grief ",
          " Despair ",
          " Grief ",
          " Desolation ",
          " Betrayal ",
          " Contentment ",
          " Accomplishment ",
          " Kindness ",
          " Excitement ",
          " Gratitude ",
          " Happiness ",
          " Excitement ",
          " Serenity ",
          " Awe ",
          " Serenity ",
          " Accomplishment ",
          " Tranquility ",
          " Enchantment ",
          " Joy ",
          " Ecstasy ",
          " Emotion ",
          " Hypnotic ",
          " Euphoria ",
          " Engagement ",
          " Gratitude ",
          " Suspense ",
          " Excitement ",
          " Triumph ",
          " Determination ",
          " Reflection ",
          " Pressure ",
          " Challenge ",
          " Solace ",
          " Harmony ",
          " Imagination ",
          " Winter Magic ",
          " Celestial Wonder ",
          " Ocean's Freedom ",
          " Joy ",
          " Indifference ",
          " Surprise ",
          " Joy ",
          " Joy ",
          " Joy ",
          " Curiosity ",
          " Curiosity ",
          " Joy ",
          " Joy ",
          " Contentment ",
          " Gratitude ",
          " Joy ",
          " Joy ",
          " Joy ",
          " Joy ",
          " Excitement ",
          " Joy ",
          " Joy ",
          " Excitement ",
          " Positive ",
          " Joy ",
          " Excitement ",
          " Excitement ",
          " Embarrassed ",
          " Excitement ",
          " Joy ",
          " Joy ",
          " Embarrassed ",
          " Joy ",
          " Joy ",
          " Bad ",
          " Bad ",
          " Hate ",
          " Hate ",
          " Sad ",
          " Sad ",
          " Sad ",
          " Neutral ",
          " Neutral ",
          " Neutral ",
          " Neutral ",
          " Happy ",
          " Happy ",
          " Happy ",
          " Happy "
         ],
         "xaxis": "x",
         "yaxis": "y"
        },
        {
         "alignmentgroup": "True",
         "bingroup": "x",
         "hovertemplate": "Platform= Twitter <br>Sentiment=%{x}<br>count=%{y}<extra></extra>",
         "legendgroup": " Twitter ",
         "marker": {
          "color": "#ab63fa",
          "pattern": {
           "shape": ""
          }
         },
         "name": " Twitter ",
         "offsetgroup": " Twitter ",
         "orientation": "v",
         "showlegend": true,
         "type": "histogram",
         "x": [
          " Zest ",
          " Proud ",
          " Compassionate ",
          " Inspired ",
          " Serenity ",
          " Grateful ",
          " Proud ",
          " Inspired ",
          " Free-spirited ",
          " Hopeful ",
          " Hopeful ",
          " Proud ",
          " Inspired ",
          " Free-spirited ",
          " Hopeful ",
          " Hopeful ",
          " Proud ",
          " Loneliness ",
          " Apprehensive ",
          " Devastated ",
          " Dismissive ",
          " Fearful ",
          " Jealous ",
          " Envious ",
          " Bitterness ",
          " Fearful ",
          " Jealous ",
          " Envious ",
          " Frustrated ",
          " Melancholy ",
          " Desolation ",
          " Loneliness ",
          " Heartbreak ",
          " Resilience ",
          " Regret ",
          " Desolation ",
          " Heartbreak ",
          " Nostalgia ",
          " Despair ",
          " Loss ",
          " Happiness ",
          " Gratitude ",
          " Joy ",
          " Love ",
          " Surprise ",
          " Inspiration ",
          " Reflection ",
          " Exploration ",
          " Amazement ",
          " Captivation ",
          " Awe ",
          " Adventure ",
          " Energy ",
          " Serenity ",
          " Charm ",
          " Creativity ",
          " Pride ",
          " Iconic ",
          " Excitement ",
          " Pride ",
          " Inspiration ",
          " Satisfaction ",
          " Inspiration ",
          " Captivation ",
          " Thrill ",
          " Disappointment ",
          " Obstacle ",
          " Renewed Effort ",
          " Despair ",
          " Adventure ",
          " Breakthrough ",
          " Envisioning History ",
          " Mesmerizing ",
          " Thrilling Journey ",
          " Creative Inspiration ",
          " Whispers of the Past ",
          " Excitement ",
          " Frustration ",
          " Satisfaction ",
          " Joy ",
          " Excitement ",
          " Pride ",
          " Joy ",
          " Curiosity ",
          " Gratitude ",
          " Curiosity ",
          " Contentment ",
          " Contentment ",
          " Joy ",
          " Contentment ",
          " Gratitude ",
          " Joy ",
          " Joy ",
          " Contentment ",
          " Gratitude ",
          " Joy ",
          " Curiosity ",
          " Excitement ",
          " Excitement ",
          " Excitement ",
          " Excitement ",
          " Joy ",
          " Joy ",
          " Excitement ",
          " Embarrassed ",
          " Mischievous ",
          " Embarrassed ",
          " Joy ",
          " Excitement ",
          " Excitement ",
          " Excitement ",
          " Embarrassed ",
          " Sad ",
          " Sad ",
          " Sad ",
          " Bad ",
          " Bad ",
          " Hate ",
          " Hate ",
          " Neutral ",
          " Neutral ",
          " Neutral ",
          " Neutral ",
          " Neutral ",
          " Happy ",
          " Happy ",
          " Happy ",
          " Happy "
         ],
         "xaxis": "x",
         "yaxis": "y"
        }
       ],
       "layout": {
        "bargap": 0.2,
        "barmode": "relative",
        "height": 500,
        "legend": {
         "title": {
          "text": "Platform"
         },
         "tracegroupgap": 0
        },
        "template": {
         "data": {
          "bar": [
           {
            "error_x": {
             "color": "#2a3f5f"
            },
            "error_y": {
             "color": "#2a3f5f"
            },
            "marker": {
             "line": {
              "color": "#E5ECF6",
              "width": 0.5
             },
             "pattern": {
              "fillmode": "overlay",
              "size": 10,
              "solidity": 0.2
             }
            },
            "type": "bar"
           }
          ],
          "barpolar": [
           {
            "marker": {
             "line": {
              "color": "#E5ECF6",
              "width": 0.5
             },
             "pattern": {
              "fillmode": "overlay",
              "size": 10,
              "solidity": 0.2
             }
            },
            "type": "barpolar"
           }
          ],
          "carpet": [
           {
            "aaxis": {
             "endlinecolor": "#2a3f5f",
             "gridcolor": "white",
             "linecolor": "white",
             "minorgridcolor": "white",
             "startlinecolor": "#2a3f5f"
            },
            "baxis": {
             "endlinecolor": "#2a3f5f",
             "gridcolor": "white",
             "linecolor": "white",
             "minorgridcolor": "white",
             "startlinecolor": "#2a3f5f"
            },
            "type": "carpet"
           }
          ],
          "choropleth": [
           {
            "colorbar": {
             "outlinewidth": 0,
             "ticks": ""
            },
            "type": "choropleth"
           }
          ],
          "contour": [
           {
            "colorbar": {
             "outlinewidth": 0,
             "ticks": ""
            },
            "colorscale": [
             [
              0,
              "#0d0887"
             ],
             [
              0.1111111111111111,
              "#46039f"
             ],
             [
              0.2222222222222222,
              "#7201a8"
             ],
             [
              0.3333333333333333,
              "#9c179e"
             ],
             [
              0.4444444444444444,
              "#bd3786"
             ],
             [
              0.5555555555555556,
              "#d8576b"
             ],
             [
              0.6666666666666666,
              "#ed7953"
             ],
             [
              0.7777777777777778,
              "#fb9f3a"
             ],
             [
              0.8888888888888888,
              "#fdca26"
             ],
             [
              1,
              "#f0f921"
             ]
            ],
            "type": "contour"
           }
          ],
          "contourcarpet": [
           {
            "colorbar": {
             "outlinewidth": 0,
             "ticks": ""
            },
            "type": "contourcarpet"
           }
          ],
          "heatmap": [
           {
            "colorbar": {
             "outlinewidth": 0,
             "ticks": ""
            },
            "colorscale": [
             [
              0,
              "#0d0887"
             ],
             [
              0.1111111111111111,
              "#46039f"
             ],
             [
              0.2222222222222222,
              "#7201a8"
             ],
             [
              0.3333333333333333,
              "#9c179e"
             ],
             [
              0.4444444444444444,
              "#bd3786"
             ],
             [
              0.5555555555555556,
              "#d8576b"
             ],
             [
              0.6666666666666666,
              "#ed7953"
             ],
             [
              0.7777777777777778,
              "#fb9f3a"
             ],
             [
              0.8888888888888888,
              "#fdca26"
             ],
             [
              1,
              "#f0f921"
             ]
            ],
            "type": "heatmap"
           }
          ],
          "heatmapgl": [
           {
            "colorbar": {
             "outlinewidth": 0,
             "ticks": ""
            },
            "colorscale": [
             [
              0,
              "#0d0887"
             ],
             [
              0.1111111111111111,
              "#46039f"
             ],
             [
              0.2222222222222222,
              "#7201a8"
             ],
             [
              0.3333333333333333,
              "#9c179e"
             ],
             [
              0.4444444444444444,
              "#bd3786"
             ],
             [
              0.5555555555555556,
              "#d8576b"
             ],
             [
              0.6666666666666666,
              "#ed7953"
             ],
             [
              0.7777777777777778,
              "#fb9f3a"
             ],
             [
              0.8888888888888888,
              "#fdca26"
             ],
             [
              1,
              "#f0f921"
             ]
            ],
            "type": "heatmapgl"
           }
          ],
          "histogram": [
           {
            "marker": {
             "pattern": {
              "fillmode": "overlay",
              "size": 10,
              "solidity": 0.2
             }
            },
            "type": "histogram"
           }
          ],
          "histogram2d": [
           {
            "colorbar": {
             "outlinewidth": 0,
             "ticks": ""
            },
            "colorscale": [
             [
              0,
              "#0d0887"
             ],
             [
              0.1111111111111111,
              "#46039f"
             ],
             [
              0.2222222222222222,
              "#7201a8"
             ],
             [
              0.3333333333333333,
              "#9c179e"
             ],
             [
              0.4444444444444444,
              "#bd3786"
             ],
             [
              0.5555555555555556,
              "#d8576b"
             ],
             [
              0.6666666666666666,
              "#ed7953"
             ],
             [
              0.7777777777777778,
              "#fb9f3a"
             ],
             [
              0.8888888888888888,
              "#fdca26"
             ],
             [
              1,
              "#f0f921"
             ]
            ],
            "type": "histogram2d"
           }
          ],
          "histogram2dcontour": [
           {
            "colorbar": {
             "outlinewidth": 0,
             "ticks": ""
            },
            "colorscale": [
             [
              0,
              "#0d0887"
             ],
             [
              0.1111111111111111,
              "#46039f"
             ],
             [
              0.2222222222222222,
              "#7201a8"
             ],
             [
              0.3333333333333333,
              "#9c179e"
             ],
             [
              0.4444444444444444,
              "#bd3786"
             ],
             [
              0.5555555555555556,
              "#d8576b"
             ],
             [
              0.6666666666666666,
              "#ed7953"
             ],
             [
              0.7777777777777778,
              "#fb9f3a"
             ],
             [
              0.8888888888888888,
              "#fdca26"
             ],
             [
              1,
              "#f0f921"
             ]
            ],
            "type": "histogram2dcontour"
           }
          ],
          "mesh3d": [
           {
            "colorbar": {
             "outlinewidth": 0,
             "ticks": ""
            },
            "type": "mesh3d"
           }
          ],
          "parcoords": [
           {
            "line": {
             "colorbar": {
              "outlinewidth": 0,
              "ticks": ""
             }
            },
            "type": "parcoords"
           }
          ],
          "pie": [
           {
            "automargin": true,
            "type": "pie"
           }
          ],
          "scatter": [
           {
            "fillpattern": {
             "fillmode": "overlay",
             "size": 10,
             "solidity": 0.2
            },
            "type": "scatter"
           }
          ],
          "scatter3d": [
           {
            "line": {
             "colorbar": {
              "outlinewidth": 0,
              "ticks": ""
             }
            },
            "marker": {
             "colorbar": {
              "outlinewidth": 0,
              "ticks": ""
             }
            },
            "type": "scatter3d"
           }
          ],
          "scattercarpet": [
           {
            "marker": {
             "colorbar": {
              "outlinewidth": 0,
              "ticks": ""
             }
            },
            "type": "scattercarpet"
           }
          ],
          "scattergeo": [
           {
            "marker": {
             "colorbar": {
              "outlinewidth": 0,
              "ticks": ""
             }
            },
            "type": "scattergeo"
           }
          ],
          "scattergl": [
           {
            "marker": {
             "colorbar": {
              "outlinewidth": 0,
              "ticks": ""
             }
            },
            "type": "scattergl"
           }
          ],
          "scattermapbox": [
           {
            "marker": {
             "colorbar": {
              "outlinewidth": 0,
              "ticks": ""
             }
            },
            "type": "scattermapbox"
           }
          ],
          "scatterpolar": [
           {
            "marker": {
             "colorbar": {
              "outlinewidth": 0,
              "ticks": ""
             }
            },
            "type": "scatterpolar"
           }
          ],
          "scatterpolargl": [
           {
            "marker": {
             "colorbar": {
              "outlinewidth": 0,
              "ticks": ""
             }
            },
            "type": "scatterpolargl"
           }
          ],
          "scatterternary": [
           {
            "marker": {
             "colorbar": {
              "outlinewidth": 0,
              "ticks": ""
             }
            },
            "type": "scatterternary"
           }
          ],
          "surface": [
           {
            "colorbar": {
             "outlinewidth": 0,
             "ticks": ""
            },
            "colorscale": [
             [
              0,
              "#0d0887"
             ],
             [
              0.1111111111111111,
              "#46039f"
             ],
             [
              0.2222222222222222,
              "#7201a8"
             ],
             [
              0.3333333333333333,
              "#9c179e"
             ],
             [
              0.4444444444444444,
              "#bd3786"
             ],
             [
              0.5555555555555556,
              "#d8576b"
             ],
             [
              0.6666666666666666,
              "#ed7953"
             ],
             [
              0.7777777777777778,
              "#fb9f3a"
             ],
             [
              0.8888888888888888,
              "#fdca26"
             ],
             [
              1,
              "#f0f921"
             ]
            ],
            "type": "surface"
           }
          ],
          "table": [
           {
            "cells": {
             "fill": {
              "color": "#EBF0F8"
             },
             "line": {
              "color": "white"
             }
            },
            "header": {
             "fill": {
              "color": "#C8D4E3"
             },
             "line": {
              "color": "white"
             }
            },
            "type": "table"
           }
          ]
         },
         "layout": {
          "annotationdefaults": {
           "arrowcolor": "#2a3f5f",
           "arrowhead": 0,
           "arrowwidth": 1
          },
          "autotypenumbers": "strict",
          "coloraxis": {
           "colorbar": {
            "outlinewidth": 0,
            "ticks": ""
           }
          },
          "colorscale": {
           "diverging": [
            [
             0,
             "#8e0152"
            ],
            [
             0.1,
             "#c51b7d"
            ],
            [
             0.2,
             "#de77ae"
            ],
            [
             0.3,
             "#f1b6da"
            ],
            [
             0.4,
             "#fde0ef"
            ],
            [
             0.5,
             "#f7f7f7"
            ],
            [
             0.6,
             "#e6f5d0"
            ],
            [
             0.7,
             "#b8e186"
            ],
            [
             0.8,
             "#7fbc41"
            ],
            [
             0.9,
             "#4d9221"
            ],
            [
             1,
             "#276419"
            ]
           ],
           "sequential": [
            [
             0,
             "#0d0887"
            ],
            [
             0.1111111111111111,
             "#46039f"
            ],
            [
             0.2222222222222222,
             "#7201a8"
            ],
            [
             0.3333333333333333,
             "#9c179e"
            ],
            [
             0.4444444444444444,
             "#bd3786"
            ],
            [
             0.5555555555555556,
             "#d8576b"
            ],
            [
             0.6666666666666666,
             "#ed7953"
            ],
            [
             0.7777777777777778,
             "#fb9f3a"
            ],
            [
             0.8888888888888888,
             "#fdca26"
            ],
            [
             1,
             "#f0f921"
            ]
           ],
           "sequentialminus": [
            [
             0,
             "#0d0887"
            ],
            [
             0.1111111111111111,
             "#46039f"
            ],
            [
             0.2222222222222222,
             "#7201a8"
            ],
            [
             0.3333333333333333,
             "#9c179e"
            ],
            [
             0.4444444444444444,
             "#bd3786"
            ],
            [
             0.5555555555555556,
             "#d8576b"
            ],
            [
             0.6666666666666666,
             "#ed7953"
            ],
            [
             0.7777777777777778,
             "#fb9f3a"
            ],
            [
             0.8888888888888888,
             "#fdca26"
            ],
            [
             1,
             "#f0f921"
            ]
           ]
          },
          "colorway": [
           "#636efa",
           "#EF553B",
           "#00cc96",
           "#ab63fa",
           "#FFA15A",
           "#19d3f3",
           "#FF6692",
           "#B6E880",
           "#FF97FF",
           "#FECB52"
          ],
          "font": {
           "color": "#2a3f5f"
          },
          "geo": {
           "bgcolor": "white",
           "lakecolor": "white",
           "landcolor": "#E5ECF6",
           "showlakes": true,
           "showland": true,
           "subunitcolor": "white"
          },
          "hoverlabel": {
           "align": "left"
          },
          "hovermode": "closest",
          "mapbox": {
           "style": "light"
          },
          "paper_bgcolor": "white",
          "plot_bgcolor": "#E5ECF6",
          "polar": {
           "angularaxis": {
            "gridcolor": "white",
            "linecolor": "white",
            "ticks": ""
           },
           "bgcolor": "#E5ECF6",
           "radialaxis": {
            "gridcolor": "white",
            "linecolor": "white",
            "ticks": ""
           }
          },
          "scene": {
           "xaxis": {
            "backgroundcolor": "#E5ECF6",
            "gridcolor": "white",
            "gridwidth": 2,
            "linecolor": "white",
            "showbackground": true,
            "ticks": "",
            "zerolinecolor": "white"
           },
           "yaxis": {
            "backgroundcolor": "#E5ECF6",
            "gridcolor": "white",
            "gridwidth": 2,
            "linecolor": "white",
            "showbackground": true,
            "ticks": "",
            "zerolinecolor": "white"
           },
           "zaxis": {
            "backgroundcolor": "#E5ECF6",
            "gridcolor": "white",
            "gridwidth": 2,
            "linecolor": "white",
            "showbackground": true,
            "ticks": "",
            "zerolinecolor": "white"
           }
          },
          "shapedefaults": {
           "line": {
            "color": "#2a3f5f"
           }
          },
          "ternary": {
           "aaxis": {
            "gridcolor": "white",
            "linecolor": "white",
            "ticks": ""
           },
           "baxis": {
            "gridcolor": "white",
            "linecolor": "white",
            "ticks": ""
           },
           "bgcolor": "#E5ECF6",
           "caxis": {
            "gridcolor": "white",
            "linecolor": "white",
            "ticks": ""
           }
          },
          "title": {
           "x": 0.05
          },
          "xaxis": {
           "automargin": true,
           "gridcolor": "white",
           "linecolor": "white",
           "ticks": "",
           "title": {
            "standoff": 15
           },
           "zerolinecolor": "white",
           "zerolinewidth": 2
          },
          "yaxis": {
           "automargin": true,
           "gridcolor": "white",
           "linecolor": "white",
           "ticks": "",
           "title": {
            "standoff": 15
           },
           "zerolinecolor": "white",
           "zerolinewidth": 2
          }
         }
        },
        "title": {
         "text": "<b>Distribution of sentiments over Platforms</b>"
        },
        "width": 700,
        "xaxis": {
         "anchor": "y",
         "autorange": true,
         "domain": [
          0,
          1
         ],
         "range": [
          -0.5,
          278.5
         ],
         "title": {
          "text": "Sentiment"
         },
         "type": "category"
        },
        "yaxis": {
         "anchor": "x",
         "autorange": true,
         "domain": [
          0,
          1
         ],
         "range": [
          0,
          46.31578947368421
         ],
         "title": {
          "text": "count"
         }
        }
       }
      },
      "image/png": "[encoded data removed]",
      "text/html": [
       "<div>                            <div id=\"b0337675-d169-4703-96f0-f27d37e72b11\" class=\"plotly-graph-div\" style=\"height:500px; width:700px;\"></div>            <script type=\"text/javascript\">                require([\"plotly\"], function(Plotly) {                    window.PLOTLYENV=window.PLOTLYENV || {};                                    if (document.getElementById(\"b0337675-d169-4703-96f0-f27d37e72b11\")) {                    Plotly.newPlot(                        \"b0337675-d169-4703-96f0-f27d37e72b11\",                        [{\"alignmentgroup\":\"True\",\"bingroup\":\"x\",\"hovertemplate\":\"Platform= Twitter  <br>Sentiment=%{x}<br>count=%{y}<extra></extra>\",\"legendgroup\":\" Twitter  \",\"marker\":{\"color\":\"#636efa\",\"pattern\":{\"shape\":\"\"}},\"name\":\" Twitter  \",\"offsetgroup\":\" Twitter  \",\"orientation\":\"v\",\"showlegend\":true,\"x\":[\" Positive  \",\" Negative  \",\" Positive  \",\" Negative  \",\" Negative  \",\" Neutral   \",\" Positive  \",\" Positive  \",\" Positive  \",\" Positive  \",\" Positive  \",\" Positive  \",\" Positive  \",\" Positive  \",\" Positive  \",\" Positive  \",\" Positive  \",\" Anger        \",\" Disgust      \",\" Love         \",\" Admiration   \",\" Disappointed \",\" Adoration    \",\" Calmness     \",\" Kind         \",\" Anger        \",\" Disgust      \",\" Love         \",\" Admiration   \",\" Disappointed \",\" Adoration    \",\" Calmness     \",\" Kind         \",\" Acceptance   \",\" Bitter       \",\" Excitement \",\" Shame \",\" Elation       \",\" Serenity      \",\" Empowerment   \",\" Arousal       \",\" Reverence     \",\" Contentment   \",\" Hope          \",\" Tenderness    \",\" Fulfillment  \",\" Elation       \",\" Serenity      \",\" Empowerment   \",\" Arousal       \",\" Reverence \",\" Contentment   \",\" Hope          \",\" Tenderness    \",\" Fulfillment   \",\" Despair         \",\" Jealousy        \",\" Boredom         \",\" Helplessness    \",\" Disgust         \",\" Loneliness \",\" Frustration \",\" Intimidation \",\" Regret         \",\" Grief           \",\" Resentment      \",\" Curiosity       \",\" Numbness        \",\" Ambivalence     \",\" Serenity        \",\" Confusion       \",\" Nostalgia       \",\" Determination   \",\" Indifference    \",\" Melancholy      \",\" Acceptance      \",\" Numbness        \",\" Ambivalence     \",\" Serenity        \",\" Confusion       \",\" Nostalgia       \",\" Determination   \",\" Determination \",\" Calmness      \",\" Gratitude   \",\" Overjoyed     \",\" Gratitude     \",\" Contemplation \",\" Satisfaction  \",\" Anticipation  \",\" Appreciation  \",\" Enthusiasm    \",\" Wonderment    \",\" Happiness     \",\" Intrigue      \",\" DreamChaser   \",\" Pensive \",\" Creativity   \",\" Rejuvenation \",\" Adventure \",\" Melodic       \",\" Freedom       \",\" Reflection    \",\" ArtisticBurst \",\" Rejuvenation \",\" CulinaryOdyssey \",\" Excitement   \",\" Immersion \",\" Gratitude    \",\" Loneliness    \",\" Betrayal      \",\" Regret        \",\" Disappointment \",\" Sorrow      \",\" Ruins      \"],\"xaxis\":\"x\",\"yaxis\":\"y\",\"type\":\"histogram\"},{\"alignmentgroup\":\"True\",\"bingroup\":\"x\",\"hovertemplate\":\"Platform= Instagram <br>Sentiment=%{x}<br>count=%{y}<extra></extra>\",\"legendgroup\":\" Instagram \",\"marker\":{\"color\":\"#EF553B\",\"pattern\":{\"shape\":\"\"}},\"name\":\" Instagram \",\"offsetgroup\":\" Instagram \",\"orientation\":\"v\",\"showlegend\":true,\"x\":[\" Positive  \",\" Neutral   \",\" Positive  \",\" Positive  \",\" Positive  \",\" Positive  \",\" Negative  \",\" Positive  \",\" Positive  \",\" Positive  \",\" Positive  \",\" Positive  \",\" Positive  \",\" Positive  \",\" Positive  \",\" Positive  \",\" Positive  \",\" Positive  \",\" Fear         \",\" Happiness    \",\" Amusement    \",\" Affection    \",\" Surprise     \",\" Anticipation \",\" Confusion    \",\" Pride        \",\" Fear         \",\" Happiness    \",\" Amusement    \",\" Affection    \",\" Surprise     \",\" Anticipation \",\" Confusion    \",\" Pride        \",\" Excitement   \",\" Confusion \",\" Pride        \",\" Euphoria      \",\" Gratitude     \",\" Compassion    \",\" Enthusiasm    \",\" Elation       \",\" Serenity      \",\" Empowerment   \",\" Arousal       \",\" Reverence     \",\" Euphoria      \",\" Gratitude     \",\" Compassion\",\" Enthusiasm    \",\" Elation       \",\" Serenity      \",\" Empowerment   \",\" Arousal       \",\" Reverence \",\" Grief           \",\" Resentment      \",\" Anxiety         \",\" Envy            \",\" Despair      \",\" Jealousy        \",\" Boredom         \",\" Helplessness \",\" Disgust         \",\" Loneliness \",\" Frustration     \",\" Indifference    \",\" Melancholy      \",\" Acceptance      \",\" Curiosity       \",\" Numbness        \",\" Ambivalence     \",\" Serenity        \",\" Confusion       \",\" Nostalgia       \",\" Determination   \",\" Indifference    \",\" Melancholy      \",\" Acceptance      \",\" Curiosity       \",\" Numbness        \",\" Ambivalence     \",\" Serenity        \",\" Numbness \",\" Hopeful \",\" Empathetic \",\" Free-spirited \",\" Confident \",\" Curiosity \",\" Zest \",\" Hopeful \",\" Contentment \",\" Grateful \",\" Playful \",\" Compassionate \",\" Hopeful \",\" Contentment \",\" Grateful \",\" Playful \",\" Compassionate \",\" Hopeful \",\" Despair \",\" Yearning \",\" Overwhelmed \",\" Frustrated \",\" Frustrated \",\" Bitterness \",\" Devastated \",\" Dismissive \",\" Loneliness \",\" Apprehensive \",\" Devastated \",\" Dismissive \",\" Awe           \",\" Thrill        \",\" Excitement \",\" Bittersweet \",\" Admiration    \",\" Inspiration   \",\" Empowerment   \",\" JoyfulReunion \",\" Blessed       \",\" Reflection    \",\" Confidence    \",\" Surprise      \",\" Optimism      \",\" Elation       \",\" Enchantment   \",\" Mindfulness   \",\" Whimsy        \",\" Harmony    \",\" Wonder     \",\" Coziness     \",\" Euphoria   \",\" Enchantment   \",\" InnerJourney  \",\" Whimsy        \",\" Harmony       \",\" Wonder       \",\" Coziness     \",\" Euphoria     \",\" Curiosity  \",\" Contentment \",\" Nostalgia \",\" Marvel       \",\" Heartbreak    \",\" Despair   \",\" EmotionalStorm \",\" Isolation \",\" Despair   \",\" Exhaustion \",\" Desperation \",\" Regret \",\" Bitterness \",\" Grief \",\" Isolation \",\" Sorrow \",\" Betrayal \",\" Loss \",\" Heartache \",\" Betrayal \",\" Regret \",\" Solitude \",\" Joy \",\" Enthusiasm \",\" Positivity \",\" Friendship \",\" Joy \",\" Curiosity \",\" Success \",\" Thrill \",\" Enchantment \",\" Joy \",\" Awe \",\" Romance \",\" Excitement \",\" Wonder \",\" Exploration \",\" Grandeur \",\" Emotion \",\" Nostalgia \",\" Celebration \",\" Hope \",\" Enthusiasm \",\" Colorful \",\" Connection \",\" Journey \",\" Nostalgia \",\" Touched \",\" Contemplation \",\" Joy \",\" Admiration \",\" Awe \",\" Heartwarming \",\" Frustration \",\" Sympathy \",\" Miscalculation \",\" Tranquility \",\" Creativity \",\" Joy in Baking \",\" Vibrancy \",\" Culinary Adventure \",\" Nature's Beauty \",\" Runway Creativity \",\" Boredom \",\" Surprise \",\" Disgust \",\" Excitement \",\" Frustration \",\" Excitement \",\" Excitement \",\" Contentment \",\" Contentment \",\" Joy \",\" Joy \",\" Contentment \",\" Curiosity \",\" Joy \",\" Excitement \",\" Contentment \",\" Joy \",\" Excitement \",\" Joy \",\" Gratitude \",\" Gratitude \",\" Relief \",\" Joy \",\" Embarrassed \",\" Joy \",\" Excitement \",\" Mischievous \",\" Embarrassed \",\" Joy \",\" Excitement \",\" Embarrassed \",\" Excitement \",\" Joy \",\" Joy \",\" Excitement \",\" Excitement \",\" Hate \",\" Hate \",\" Sad \",\" Sad \",\" Sad \",\" Bad \",\" Bad \",\" Neutral \",\" Neutral \",\" Neutral \",\" Neutral \",\" Neutral \",\" Happy \",\" Happy \",\" Happy \",\" Happy \",\" Happy \",\" Happy \"],\"xaxis\":\"x\",\"yaxis\":\"y\",\"type\":\"histogram\"},{\"alignmentgroup\":\"True\",\"bingroup\":\"x\",\"hovertemplate\":\"Platform= Facebook <br>Sentiment=%{x}<br>count=%{y}<extra></extra>\",\"legendgroup\":\" Facebook \",\"marker\":{\"color\":\"#00cc96\",\"pattern\":{\"shape\":\"\"}},\"name\":\" Facebook \",\"offsetgroup\":\" Facebook \",\"orientation\":\"v\",\"showlegend\":true,\"x\":[\" Positive  \",\" Positive  \",\" Neutral   \",\" Positive  \",\" Positive  \",\" Neutral   \",\" Positive  \",\" Positive  \",\" Positive  \",\" Positive  \",\" Positive  \",\" Positive  \",\" Positive  \",\" Positive  \",\" Positive  \",\" Positive  \",\" Positive  \",\" Sadness      \",\" Joy          \",\" Enjoyment    \",\" Awe          \",\" Acceptance   \",\" Bitter       \",\" Excitement   \",\" Shame        \",\" Sadness      \",\" Joy          \",\" Enjoyment    \",\" Awe          \",\" Acceptance   \",\" Bitter       \",\" Excitement   \",\" Shame        \",\" Calmness     \",\" Kind         \",\" Contentment   \",\" Hope          \",\" Tenderness    \",\" Fulfillment  \",\" Euphoria      \",\" Gratitude     \",\" Compassion    \",\" Enthusiasm    \",\" Elation       \",\" Contentment   \",\" Hope          \",\" Tenderness    \",\" Fulfillment   \",\" Euphoria      \",\" Gratitude     \",\" Compassion    \",\" Enthusiasm    \",\" Elation   \",\" Loneliness      \",\" Frustration     \",\" Intimidation    \",\" Regret         \",\" Grief           \",\" Resentment      \",\" Anxiety   \",\" Envy            \",\" Despair         \",\" Jealousy    \",\" Boredom         \",\" Confusion       \",\" Nostalgia       \",\" Determination   \",\" Indifference    \",\" Melancholy      \",\" Acceptance      \",\" Curiosity       \",\" Numbness        \",\" Ambivalence     \",\" Serenity        \",\" Confusion       \",\" Nostalgia       \",\" Determination   \",\" Indifference    \",\" Melancholy      \",\" Acceptance      \",\" Curiosity       \",\" Contentment \",\" Grateful \",\" Playful \",\" Hopeful \",\" Ambivalence \",\" Compassionate \",\" Playful \",\" Empathetic \",\" Confident \",\" Inspired \",\" Playful \",\" Empathetic \",\" Confident \",\" Inspired \",\" Playful \",\" Bitterness \",\" Fearful \",\" Jealous \",\" Envious \",\" Loneliness \",\" Overwhelmed \",\" Frustrated \",\" Despair \",\" Yearning \",\" Overwhelmed \",\" Frustrated \",\" Loneliness \",\" Nostalgia      \",\" Overwhelmed   \",\" Curiosity     \",\" Motivation    \",\" Amusement     \",\" Excitement    \",\" Serenity      \",\" Nostalgia     \",\" Contentment   \",\" Accomplishment \",\" Pride         \",\" Curiosity   \",\" PlayfulJoy    \",\" Elegance \",\" Thrill      \",\" Radiance    \",\" Inspiration \",\" Gratitude  \",\" Awe    \",\" FestiveJoy    \",\" Dazzle        \",\" Adrenaline     \",\" Radiance      \",\" Inspiration  \",\" Gratitude  \",\" Awe    \",\" Resilience   \",\" Spark        \",\" Serenity   \",\" Grief      \",\" Suffering \",\" Grief      \",\" LostLove \",\" Bitterness \",\" Darkness     \",\" Grief \",\" Desolation \",\" Betrayal \",\" Despair \",\" Grief \",\" Despair \",\" Grief \",\" Desolation \",\" Betrayal \",\" Contentment \",\" Accomplishment \",\" Kindness \",\" Excitement \",\" Gratitude \",\" Happiness \",\" Excitement \",\" Serenity \",\" Awe \",\" Serenity \",\" Accomplishment \",\" Tranquility \",\" Enchantment \",\" Joy \",\" Ecstasy \",\" Emotion \",\" Hypnotic \",\" Euphoria \",\" Engagement \",\" Gratitude \",\" Suspense \",\" Excitement \",\" Triumph \",\" Determination \",\" Reflection \",\" Pressure \",\" Challenge \",\" Solace \",\" Harmony \",\" Imagination \",\" Winter Magic \",\" Celestial Wonder \",\" Ocean's Freedom \",\" Joy \",\" Indifference \",\" Surprise \",\" Joy \",\" Joy \",\" Joy \",\" Curiosity \",\" Curiosity \",\" Joy \",\" Joy \",\" Contentment \",\" Gratitude \",\" Joy \",\" Joy \",\" Joy \",\" Joy \",\" Excitement \",\" Joy \",\" Joy \",\" Excitement \",\" Positive \",\" Joy \",\" Excitement \",\" Excitement \",\" Embarrassed \",\" Excitement \",\" Joy \",\" Joy \",\" Embarrassed \",\" Joy \",\" Joy \",\" Bad \",\" Bad \",\" Hate \",\" Hate \",\" Sad \",\" Sad \",\" Sad \",\" Neutral \",\" Neutral \",\" Neutral \",\" Neutral \",\" Happy \",\" Happy \",\" Happy \",\" Happy \"],\"xaxis\":\"x\",\"yaxis\":\"y\",\"type\":\"histogram\"},{\"alignmentgroup\":\"True\",\"bingroup\":\"x\",\"hovertemplate\":\"Platform= Twitter <br>Sentiment=%{x}<br>count=%{y}<extra></extra>\",\"legendgroup\":\" Twitter \",\"marker\":{\"color\":\"#ab63fa\",\"pattern\":{\"shape\":\"\"}},\"name\":\" Twitter \",\"offsetgroup\":\" Twitter \",\"orientation\":\"v\",\"showlegend\":true,\"x\":[\" Zest \",\" Proud \",\" Compassionate \",\" Inspired \",\" Serenity \",\" Grateful \",\" Proud \",\" Inspired \",\" Free-spirited \",\" Hopeful \",\" Hopeful \",\" Proud \",\" Inspired \",\" Free-spirited \",\" Hopeful \",\" Hopeful \",\" Proud \",\" Loneliness \",\" Apprehensive \",\" Devastated \",\" Dismissive \",\" Fearful \",\" Jealous \",\" Envious \",\" Bitterness \",\" Fearful \",\" Jealous \",\" Envious \",\" Frustrated \",\" Melancholy \",\" Desolation \",\" Loneliness \",\" Heartbreak \",\" Resilience \",\" Regret \",\" Desolation \",\" Heartbreak \",\" Nostalgia \",\" Despair \",\" Loss \",\" Happiness \",\" Gratitude \",\" Joy \",\" Love \",\" Surprise \",\" Inspiration \",\" Reflection \",\" Exploration \",\" Amazement \",\" Captivation \",\" Awe \",\" Adventure \",\" Energy \",\" Serenity \",\" Charm \",\" Creativity \",\" Pride \",\" Iconic \",\" Excitement \",\" Pride \",\" Inspiration \",\" Satisfaction \",\" Inspiration \",\" Captivation \",\" Thrill \",\" Disappointment \",\" Obstacle \",\" Renewed Effort \",\" Despair \",\" Adventure \",\" Breakthrough \",\" Envisioning History \",\" Mesmerizing \",\" Thrilling Journey \",\" Creative Inspiration \",\" Whispers of the Past \",\" Excitement \",\" Frustration \",\" Satisfaction \",\" Joy \",\" Excitement \",\" Pride \",\" Joy \",\" Curiosity \",\" Gratitude \",\" Curiosity \",\" Contentment \",\" Contentment \",\" Joy \",\" Contentment \",\" Gratitude \",\" Joy \",\" Joy \",\" Contentment \",\" Gratitude \",\" Joy \",\" Curiosity \",\" Excitement \",\" Excitement \",\" Excitement \",\" Excitement \",\" Joy \",\" Joy \",\" Excitement \",\" Embarrassed \",\" Mischievous \",\" Embarrassed \",\" Joy \",\" Excitement \",\" Excitement \",\" Excitement \",\" Embarrassed \",\" Sad \",\" Sad \",\" Sad \",\" Bad \",\" Bad \",\" Hate \",\" Hate \",\" Neutral \",\" Neutral \",\" Neutral \",\" Neutral \",\" Neutral \",\" Happy \",\" Happy \",\" Happy \",\" Happy \"],\"xaxis\":\"x\",\"yaxis\":\"y\",\"type\":\"histogram\"}],                        {\"template\":{\"data\":{\"histogram2dcontour\":[{\"type\":\"histogram2dcontour\",\"colorbar\":{\"outlinewidth\":0,\"ticks\":\"\"},\"colorscale\":[[0.0,\"#0d0887\"],[0.1111111111111111,\"#46039f\"],[0.2222222222222222,\"#7201a8\"],[0.3333333333333333,\"#9c179e\"],[0.4444444444444444,\"#bd3786\"],[0.5555555555555556,\"#d8576b\"],[0.6666666666666666,\"#ed7953\"],[0.7777777777777778,\"#fb9f3a\"],[0.8888888888888888,\"#fdca26\"],[1.0,\"#f0f921\"]]}],\"choropleth\":[{\"type\":\"choropleth\",\"colorbar\":{\"outlinewidth\":0,\"ticks\":\"\"}}],\"histogram2d\":[{\"type\":\"histogram2d\",\"colorbar\":{\"outlinewidth\":0,\"ticks\":\"\"},\"colorscale\":[[0.0,\"#0d0887\"],[0.1111111111111111,\"#46039f\"],[0.2222222222222222,\"#7201a8\"],[0.3333333333333333,\"#9c179e\"],[0.4444444444444444,\"#bd3786\"],[0.5555555555555556,\"#d8576b\"],[0.6666666666666666,\"#ed7953\"],[0.7777777777777778,\"#fb9f3a\"],[0.8888888888888888,\"#fdca26\"],[1.0,\"#f0f921\"]]}],\"heatmap\":[{\"type\":\"heatmap\",\"colorbar\":{\"outlinewidth\":0,\"ticks\":\"\"},\"colorscale\":[[0.0,\"#0d0887\"],[0.1111111111111111,\"#46039f\"],[0.2222222222222222,\"#7201a8\"],[0.3333333333333333,\"#9c179e\"],[0.4444444444444444,\"#bd3786\"],[0.5555555555555556,\"#d8576b\"],[0.6666666666666666,\"#ed7953\"],[0.7777777777777778,\"#fb9f3a\"],[0.8888888888888888,\"#fdca26\"],[1.0,\"#f0f921\"]]}],\"heatmapgl\":[{\"type\":\"heatmapgl\",\"colorbar\":{\"outlinewidth\":0,\"ticks\":\"\"},\"colorscale\":[[0.0,\"#0d0887\"],[0.1111111111111111,\"#46039f\"],[0.2222222222222222,\"#7201a8\"],[0.3333333333333333,\"#9c179e\"],[0.4444444444444444,\"#bd3786\"],[0.5555555555555556,\"#d8576b\"],[0.6666666666666666,\"#ed7953\"],[0.7777777777777778,\"#fb9f3a\"],[0.8888888888888888,\"#fdca26\"],[1.0,\"#f0f921\"]]}],\"contourcarpet\":[{\"type\":\"contourcarpet\",\"colorbar\":{\"outlinewidth\":0,\"ticks\":\"\"}}],\"contour\":[{\"type\":\"contour\",\"colorbar\":{\"outlinewidth\":0,\"ticks\":\"\"},\"colorscale\":[[0.0,\"#0d0887\"],[0.1111111111111111,\"#46039f\"],[0.2222222222222222,\"#7201a8\"],[0.3333333333333333,\"#9c179e\"],[0.4444444444444444,\"#bd3786\"],[0.5555555555555556,\"#d8576b\"],[0.6666666666666666,\"#ed7953\"],[0.7777777777777778,\"#fb9f3a\"],[0.8888888888888888,\"#fdca26\"],[1.0,\"#f0f921\"]]}],\"surface\":[{\"type\":\"surface\",\"colorbar\":{\"outlinewidth\":0,\"ticks\":\"\"},\"colorscale\":[[0.0,\"#0d0887\"],[0.1111111111111111,\"#46039f\"],[0.2222222222222222,\"#7201a8\"],[0.3333333333333333,\"#9c179e\"],[0.4444444444444444,\"#bd3786\"],[0.5555555555555556,\"#d8576b\"],[0.6666666666666666,\"#ed7953\"],[0.7777777777777778,\"#fb9f3a\"],[0.8888888888888888,\"#fdca26\"],[1.0,\"#f0f921\"]]}],\"mesh3d\":[{\"type\":\"mesh3d\",\"colorbar\":{\"outlinewidth\":0,\"ticks\":\"\"}}],\"scatter\":[{\"fillpattern\":{\"fillmode\":\"overlay\",\"size\":10,\"solidity\":0.2},\"type\":\"scatter\"}],\"parcoords\":[{\"type\":\"parcoords\",\"line\":{\"colorbar\":{\"outlinewidth\":0,\"ticks\":\"\"}}}],\"scatterpolargl\":[{\"type\":\"scatterpolargl\",\"marker\":{\"colorbar\":{\"outlinewidth\":0,\"ticks\":\"\"}}}],\"bar\":[{\"error_x\":{\"color\":\"#2a3f5f\"},\"error_y\":{\"color\":\"#2a3f5f\"},\"marker\":{\"line\":{\"color\":\"#E5ECF6\",\"width\":0.5},\"pattern\":{\"fillmode\":\"overlay\",\"size\":10,\"solidity\":0.2}},\"type\":\"bar\"}],\"scattergeo\":[{\"type\":\"scattergeo\",\"marker\":{\"colorbar\":{\"outlinewidth\":0,\"ticks\":\"\"}}}],\"scatterpolar\":[{\"type\":\"scatterpolar\",\"marker\":{\"colorbar\":{\"outlinewidth\":0,\"ticks\":\"\"}}}],\"histogram\":[{\"marker\":{\"pattern\":{\"fillmode\":\"overlay\",\"size\":10,\"solidity\":0.2}},\"type\":\"histogram\"}],\"scattergl\":[{\"type\":\"scattergl\",\"marker\":{\"colorbar\":{\"outlinewidth\":0,\"ticks\":\"\"}}}],\"scatter3d\":[{\"type\":\"scatter3d\",\"line\":{\"colorbar\":{\"outlinewidth\":0,\"ticks\":\"\"}},\"marker\":{\"colorbar\":{\"outlinewidth\":0,\"ticks\":\"\"}}}],\"scattermapbox\":[{\"type\":\"scattermapbox\",\"marker\":{\"colorbar\":{\"outlinewidth\":0,\"ticks\":\"\"}}}],\"scatterternary\":[{\"type\":\"scatterternary\",\"marker\":{\"colorbar\":{\"outlinewidth\":0,\"ticks\":\"\"}}}],\"scattercarpet\":[{\"type\":\"scattercarpet\",\"marker\":{\"colorbar\":{\"outlinewidth\":0,\"ticks\":\"\"}}}],\"carpet\":[{\"aaxis\":{\"endlinecolor\":\"#2a3f5f\",\"gridcolor\":\"white\",\"linecolor\":\"white\",\"minorgridcolor\":\"white\",\"startlinecolor\":\"#2a3f5f\"},\"baxis\":{\"endlinecolor\":\"#2a3f5f\",\"gridcolor\":\"white\",\"linecolor\":\"white\",\"minorgridcolor\":\"white\",\"startlinecolor\":\"#2a3f5f\"},\"type\":\"carpet\"}],\"table\":[{\"cells\":{\"fill\":{\"color\":\"#EBF0F8\"},\"line\":{\"color\":\"white\"}},\"header\":{\"fill\":{\"color\":\"#C8D4E3\"},\"line\":{\"color\":\"white\"}},\"type\":\"table\"}],\"barpolar\":[{\"marker\":{\"line\":{\"color\":\"#E5ECF6\",\"width\":0.5},\"pattern\":{\"fillmode\":\"overlay\",\"size\":10,\"solidity\":0.2}},\"type\":\"barpolar\"}],\"pie\":[{\"automargin\":true,\"type\":\"pie\"}]},\"layout\":{\"autotypenumbers\":\"strict\",\"colorway\":[\"#636efa\",\"#EF553B\",\"#00cc96\",\"#ab63fa\",\"#FFA15A\",\"#19d3f3\",\"#FF6692\",\"#B6E880\",\"#FF97FF\",\"#FECB52\"],\"font\":{\"color\":\"#2a3f5f\"},\"hovermode\":\"closest\",\"hoverlabel\":{\"align\":\"left\"},\"paper_bgcolor\":\"white\",\"plot_bgcolor\":\"#E5ECF6\",\"polar\":{\"bgcolor\":\"#E5ECF6\",\"angularaxis\":{\"gridcolor\":\"white\",\"linecolor\":\"white\",\"ticks\":\"\"},\"radialaxis\":{\"gridcolor\":\"white\",\"linecolor\":\"white\",\"ticks\":\"\"}},\"ternary\":{\"bgcolor\":\"#E5ECF6\",\"aaxis\":{\"gridcolor\":\"white\",\"linecolor\":\"white\",\"ticks\":\"\"},\"baxis\":{\"gridcolor\":\"white\",\"linecolor\":\"white\",\"ticks\":\"\"},\"caxis\":{\"gridcolor\":\"white\",\"linecolor\":\"white\",\"ticks\":\"\"}},\"coloraxis\":{\"colorbar\":{\"outlinewidth\":0,\"ticks\":\"\"}},\"colorscale\":{\"sequential\":[[0.0,\"#0d0887\"],[0.1111111111111111,\"#46039f\"],[0.2222222222222222,\"#7201a8\"],[0.3333333333333333,\"#9c179e\"],[0.4444444444444444,\"#bd3786\"],[0.5555555555555556,\"#d8576b\"],[0.6666666666666666,\"#ed7953\"],[0.7777777777777778,\"#fb9f3a\"],[0.8888888888888888,\"#fdca26\"],[1.0,\"#f0f921\"]],\"sequentialminus\":[[0.0,\"#0d0887\"],[0.1111111111111111,\"#46039f\"],[0.2222222222222222,\"#7201a8\"],[0.3333333333333333,\"#9c179e\"],[0.4444444444444444,\"#bd3786\"],[0.5555555555555556,\"#d8576b\"],[0.6666666666666666,\"#ed7953\"],[0.7777777777777778,\"#fb9f3a\"],[0.8888888888888888,\"#fdca26\"],[1.0,\"#f0f921\"]],\"diverging\":[[0,\"#8e0152\"],[0.1,\"#c51b7d\"],[0.2,\"#de77ae\"],[0.3,\"#f1b6da\"],[0.4,\"#fde0ef\"],[0.5,\"#f7f7f7\"],[0.6,\"#e6f5d0\"],[0.7,\"#b8e186\"],[0.8,\"#7fbc41\"],[0.9,\"#4d9221\"],[1,\"#276419\"]]},\"xaxis\":{\"gridcolor\":\"white\",\"linecolor\":\"white\",\"ticks\":\"\",\"title\":{\"standoff\":15},\"zerolinecolor\":\"white\",\"automargin\":true,\"zerolinewidth\":2},\"yaxis\":{\"gridcolor\":\"white\",\"linecolor\":\"white\",\"ticks\":\"\",\"title\":{\"standoff\":15},\"zerolinecolor\":\"white\",\"automargin\":true,\"zerolinewidth\":2},\"scene\":{\"xaxis\":{\"backgroundcolor\":\"#E5ECF6\",\"gridcolor\":\"white\",\"linecolor\":\"white\",\"showbackground\":true,\"ticks\":\"\",\"zerolinecolor\":\"white\",\"gridwidth\":2},\"yaxis\":{\"backgroundcolor\":\"#E5ECF6\",\"gridcolor\":\"white\",\"linecolor\":\"white\",\"showbackground\":true,\"ticks\":\"\",\"zerolinecolor\":\"white\",\"gridwidth\":2},\"zaxis\":{\"backgroundcolor\":\"#E5ECF6\",\"gridcolor\":\"white\",\"linecolor\":\"white\",\"showbackground\":true,\"ticks\":\"\",\"zerolinecolor\":\"white\",\"gridwidth\":2}},\"shapedefaults\":{\"line\":{\"color\":\"#2a3f5f\"}},\"annotationdefaults\":{\"arrowcolor\":\"#2a3f5f\",\"arrowhead\":0,\"arrowwidth\":1},\"geo\":{\"bgcolor\":\"white\",\"landcolor\":\"#E5ECF6\",\"subunitcolor\":\"white\",\"showland\":true,\"showlakes\":true,\"lakecolor\":\"white\"},\"title\":{\"x\":0.05},\"mapbox\":{\"style\":\"light\"}}},\"xaxis\":{\"anchor\":\"y\",\"domain\":[0.0,1.0],\"title\":{\"text\":\"Sentiment\"}},\"yaxis\":{\"anchor\":\"x\",\"domain\":[0.0,1.0],\"title\":{\"text\":\"count\"}},\"legend\":{\"title\":{\"text\":\"Platform\"},\"tracegroupgap\":0},\"title\":{\"text\":\"<b>Distribution of sentiments over Platforms</b>\"},\"barmode\":\"relative\",\"width\":700,\"height\":500,\"bargap\":0.2},                        {\"responsive\": true}                    ).then(function(){\n",
       "                            \n",
       "var gd = document.getElementById('b0337675-d169-4703-96f0-f27d37e72b11');\n",
       "var x = new MutationObserver(function (mutations, observer) {{\n",
       "        var display = window.getComputedStyle(gd).display;\n",
       "        if (!display || display === 'none') {{\n",
       "            console.log([gd, 'removed!']);\n",
       "            Plotly.purge(gd);\n",
       "            observer.disconnect();\n",
       "        }}\n",
       "}});\n",
       "\n",
       "// Listen for the removal of the full notebook cells\n",
       "var notebookContainer = gd.closest('#notebook-container');\n",
       "if (notebookContainer) {{\n",
       "    x.observe(notebookContainer, {childList: true});\n",
       "}}\n",
       "\n",
       "// Listen for the clearing of the current output cell\n",
       "var outputEl = gd.closest('.output');\n",
       "if (outputEl) {{\n",
       "    x.observe(outputEl, {childList: true});\n",
       "}}\n",
       "\n",
       "                        })                };                });            </script>        </div>"
      ]
     },
     "metadata": {},
     "output_type": "display_data"
    },
    {
     "data": {
      "text/plain": [
       "<Figure size 1000x1000 with 0 Axes>"
      ]
     },
     "metadata": {},
     "output_type": "display_data"
    }
   ],
   "source": [
    "plt.figure(figsize=(10,10))\n",
    "fig = px.histogram(data,x=\"Sentiment\", color=\"Platform\", title=\"<b>Distribution of sentiments over Platforms</b>\")\n",
    "fig.update_layout(width=700, height=500, bargap=0.2)\n",
    "fig.show()"
   ]
  },
  {
   "cell_type": "markdown",
   "id": "8a4ef221-a31d-492f-9072-9fc83d58f271",
   "metadata": {},
   "source": [
    "### Inferences made: \n",
    "1. Positive comments are mostly found in facebook, enthusiasm and hate comments are mostly made on twitter. \n",
    "2.  A better variety of emotions are shown on instagram."
   ]
  },
  {
   "cell_type": "code",
   "execution_count": 33,
   "id": "2fba0504-b24e-4bbd-8a55-0275882da7d3",
   "metadata": {},
   "outputs": [
    {
     "name": "stdout",
     "output_type": "stream",
     "text": [
      "          Sentiment\n",
      "0        Positive  \n",
      "1        Negative  \n",
      "4        Neutral   \n",
      "52    Anger        \n",
      "53    Fear         \n",
      "..              ...\n",
      "683            Sad \n",
      "684           Hate \n",
      "685            Bad \n",
      "704        Neutral \n",
      "718          Happy \n",
      "\n",
      "[279 rows x 1 columns]\n"
     ]
    }
   ],
   "source": [
    "likes_number= data.groupby('Sentiment')['Likes'].sum().reset_index()\n",
    "unique_sentiments = data[['Sentiment']].drop_duplicates()\n",
    "print(unique_sentiments)"
   ]
  },
  {
   "cell_type": "markdown",
   "id": "ad3bd8a1-0e45-4a00-9199-e25bd3880de5",
   "metadata": {},
   "source": [
    "Since there are 279 unique sentiments, let us take the top 10 sentiments and plot it against its like count.\n",
    "Task- To find the most popular emotions"
   ]
  },
  {
   "cell_type": "code",
   "execution_count": 34,
   "id": "01b21935-c8c7-4557-9f54-ae45b4264a1b",
   "metadata": {},
   "outputs": [
    {
     "data": {
      "image/png": "[encoded data removed]",
      "text/plain": [
       "<Figure size 640x480 with 1 Axes>"
      ]
     },
     "metadata": {},
     "output_type": "display_data"
    }
   ],
   "source": [
    "top_sentiments = likes_number.sort_values(by='Likes', ascending=False).head(10)\n",
    "sns.barplot(data=top_sentiments, x='Sentiment', y='Likes', palette='pastel')\n",
    "plt.xlabel('Sentiment')\n",
    "plt.ylabel('Total Likes')\n",
    "plt.title('Total Likes by Sentiment')\n",
    "plt.xticks(rotation=45)\n",
    "plt.show()"
   ]
  },
  {
   "cell_type": "markdown",
   "id": "a779ace1-10ec-443d-afe4-806d01dd5fea",
   "metadata": {},
   "source": [
    "### Inferences made:\n",
    "1. The highest liked emotions are all positive.\n",
    "2. While positive comments tops the list, emotions like sadness and embarrassment are also highly relevant to the users."
   ]
  },
  {
   "cell_type": "code",
   "execution_count": 39,
   "id": "b10a8cb8-4caf-4f11-98e2-ef3be4a4265b",
   "metadata": {},
   "outputs": [
    {
     "data": {
      "image/png": "[encoded data removed]",
      "text/plain": [
       "<Figure size 640x480 with 1 Axes>"
      ]
     },
     "metadata": {},
     "output_type": "display_data"
    }
   ],
   "source": [
    "retweet_number = data.groupby('Sentiment')['Retweets'].sum().reset_index()\n",
    "top_sentiment2 = retweet_number.sort_values(by='Retweets', ascending=False).head(10)\n",
    "sns.barplot(data=top_sentiment2, x='Sentiment', y=\"Retweets\", palette='pastel')\n",
    "plt.xlabel('Sentiments')\n",
    "plt.ylabel('Number of Retweets')\n",
    "plt.title('Distribution of Sentiments over Number of Retweets')\n",
    "plt.xticks(rotation=45)\n",
    "plt.show()"
   ]
  },
  {
   "cell_type": "markdown",
   "id": "a6f508b8-1775-4c0c-9198-cd78e9c33cb6",
   "metadata": {},
   "source": [
    "### Inference made: \n",
    "The same range of emotions that had greater number of likes are most likely to be retweeted."
   ]
  },
  {
   "cell_type": "markdown",
   "id": "3bda1a0d-6235-4e24-b820-bcc888c806e9",
   "metadata": {},
   "source": [
    "-------------------------------------------------------------------------------------------------------------------------------"
   ]
  },
  {
   "cell_type": "markdown",
   "id": "e12e99e1-91ca-4e6b-a85a-e3a54b7aa3be",
   "metadata": {},
   "source": [
    "-------------------------------------------------------------------------------------------------------------------------------"
   ]
  },
  {
   "cell_type": "markdown",
   "id": "4962b386-a5e3-4999-8cf3-b90c75f1eaa9",
   "metadata": {},
   "source": [
    "## MACHINE LEARNING:\n",
    "    --Predicting the emotion of the user inputted sentence"
   ]
  },
  {
   "cell_type": "code",
   "execution_count": 73,
   "id": "4fa86214-2e93-4100-aef7-00d30718fe99",
   "metadata": {},
   "outputs": [
    {
     "name": "stdout",
     "output_type": "stream",
     "text": [
      "Requirement already satisfied: tensorflow in d:\\anaconda\\lib\\site-packages (2.13.1)\n",
      "Requirement already satisfied: keras in d:\\anaconda\\lib\\site-packages (2.13.1)\n",
      "Requirement already satisfied: tensorflow-intel==2.13.1 in d:\\anaconda\\lib\\site-packages (from tensorflow) (2.13.1)\n",
      "Requirement already satisfied: absl-py>=1.0.0 in d:\\anaconda\\lib\\site-packages (from tensorflow-intel==2.13.1->tensorflow) (2.1.0)\n",
      "Requirement already satisfied: astunparse>=1.6.0 in d:\\anaconda\\lib\\site-packages (from tensorflow-intel==2.13.1->tensorflow) (1.6.3)\n",
      "Requirement already satisfied: flatbuffers>=23.1.21 in d:\\anaconda\\lib\\site-packages (from tensorflow-intel==2.13.1->tensorflow) (24.3.25)\n",
      "Requirement already satisfied: gast<=0.4.0,>=0.2.1 in d:\\anaconda\\lib\\site-packages (from tensorflow-intel==2.13.1->tensorflow) (0.4.0)\n",
      "Requirement already satisfied: google-pasta>=0.1.1 in d:\\anaconda\\lib\\site-packages (from tensorflow-intel==2.13.1->tensorflow) (0.2.0)\n",
      "Requirement already satisfied: h5py>=2.9.0 in d:\\anaconda\\lib\\site-packages (from tensorflow-intel==2.13.1->tensorflow) (3.9.0)\n",
      "Requirement already satisfied: libclang>=13.0.0 in d:\\anaconda\\lib\\site-packages (from tensorflow-intel==2.13.1->tensorflow) (18.1.1)\n",
      "Requirement already satisfied: numpy<=1.24.3,>=1.22 in d:\\anaconda\\lib\\site-packages (from tensorflow-intel==2.13.1->tensorflow) (1.24.3)\n",
      "Requirement already satisfied: opt-einsum>=2.3.2 in d:\\anaconda\\lib\\site-packages (from tensorflow-intel==2.13.1->tensorflow) (3.3.0)\n",
      "Requirement already satisfied: packaging in d:\\anaconda\\lib\\site-packages (from tensorflow-intel==2.13.1->tensorflow) (23.1)\n",
      "Requirement already satisfied: protobuf!=4.21.0,!=4.21.1,!=4.21.2,!=4.21.3,!=4.21.4,!=4.21.5,<5.0.0dev,>=3.20.3 in d:\\anaconda\\lib\\site-packages (from tensorflow-intel==2.13.1->tensorflow) (3.20.3)\n",
      "Requirement already satisfied: setuptools in d:\\anaconda\\lib\\site-packages (from tensorflow-intel==2.13.1->tensorflow) (68.2.2)\n",
      "Requirement already satisfied: six>=1.12.0 in d:\\anaconda\\lib\\site-packages (from tensorflow-intel==2.13.1->tensorflow) (1.16.0)\n",
      "Requirement already satisfied: termcolor>=1.1.0 in d:\\anaconda\\lib\\site-packages (from tensorflow-intel==2.13.1->tensorflow) (2.4.0)\n",
      "Requirement already satisfied: typing-extensions<4.6.0,>=3.6.6 in d:\\anaconda\\lib\\site-packages (from tensorflow-intel==2.13.1->tensorflow) (4.5.0)\n",
      "Requirement already satisfied: wrapt>=1.11.0 in d:\\anaconda\\lib\\site-packages (from tensorflow-intel==2.13.1->tensorflow) (1.14.1)\n",
      "Requirement already satisfied: grpcio<2.0,>=1.24.3 in d:\\anaconda\\lib\\site-packages (from tensorflow-intel==2.13.1->tensorflow) (1.65.4)\n",
      "Requirement already satisfied: tensorboard<2.14,>=2.13 in d:\\anaconda\\lib\\site-packages (from tensorflow-intel==2.13.1->tensorflow) (2.13.0)\n",
      "Requirement already satisfied: tensorflow-estimator<2.14,>=2.13.0 in d:\\anaconda\\lib\\site-packages (from tensorflow-intel==2.13.1->tensorflow) (2.13.0)\n",
      "Requirement already satisfied: tensorflow-io-gcs-filesystem>=0.23.1 in d:\\anaconda\\lib\\site-packages (from tensorflow-intel==2.13.1->tensorflow) (0.31.0)\n",
      "Requirement already satisfied: wheel<1.0,>=0.23.0 in d:\\anaconda\\lib\\site-packages (from astunparse>=1.6.0->tensorflow-intel==2.13.1->tensorflow) (0.41.2)\n",
      "Requirement already satisfied: google-auth<3,>=1.6.3 in d:\\anaconda\\lib\\site-packages (from tensorboard<2.14,>=2.13->tensorflow-intel==2.13.1->tensorflow) (2.33.0)\n",
      "Requirement already satisfied: google-auth-oauthlib<1.1,>=0.5 in d:\\anaconda\\lib\\site-packages (from tensorboard<2.14,>=2.13->tensorflow-intel==2.13.1->tensorflow) (1.0.0)\n",
      "Requirement already satisfied: markdown>=2.6.8 in d:\\anaconda\\lib\\site-packages (from tensorboard<2.14,>=2.13->tensorflow-intel==2.13.1->tensorflow) (3.4.1)\n",
      "Requirement already satisfied: requests<3,>=2.21.0 in d:\\anaconda\\lib\\site-packages (from tensorboard<2.14,>=2.13->tensorflow-intel==2.13.1->tensorflow) (2.31.0)\n",
      "Requirement already satisfied: tensorboard-data-server<0.8.0,>=0.7.0 in d:\\anaconda\\lib\\site-packages (from tensorboard<2.14,>=2.13->tensorflow-intel==2.13.1->tensorflow) (0.7.2)\n",
      "Requirement already satisfied: werkzeug>=1.0.1 in d:\\anaconda\\lib\\site-packages (from tensorboard<2.14,>=2.13->tensorflow-intel==2.13.1->tensorflow) (2.2.3)\n",
      "Requirement already satisfied: cachetools<6.0,>=2.0.0 in d:\\anaconda\\lib\\site-packages (from google-auth<3,>=1.6.3->tensorboard<2.14,>=2.13->tensorflow-intel==2.13.1->tensorflow) (4.2.2)\n",
      "Requirement already satisfied: pyasn1-modules>=0.2.1 in d:\\anaconda\\lib\\site-packages (from google-auth<3,>=1.6.3->tensorboard<2.14,>=2.13->tensorflow-intel==2.13.1->tensorflow) (0.2.8)\n",
      "Requirement already satisfied: rsa<5,>=3.1.4 in d:\\anaconda\\lib\\site-packages (from google-auth<3,>=1.6.3->tensorboard<2.14,>=2.13->tensorflow-intel==2.13.1->tensorflow) (4.9)\n",
      "Requirement already satisfied: requests-oauthlib>=0.7.0 in d:\\anaconda\\lib\\site-packages (from google-auth-oauthlib<1.1,>=0.5->tensorboard<2.14,>=2.13->tensorflow-intel==2.13.1->tensorflow) (2.0.0)\n",
      "Requirement already satisfied: charset-normalizer<4,>=2 in d:\\anaconda\\lib\\site-packages (from requests<3,>=2.21.0->tensorboard<2.14,>=2.13->tensorflow-intel==2.13.1->tensorflow) (2.0.4)\n",
      "Requirement already satisfied: idna<4,>=2.5 in d:\\anaconda\\lib\\site-packages (from requests<3,>=2.21.0->tensorboard<2.14,>=2.13->tensorflow-intel==2.13.1->tensorflow) (3.4)\n",
      "Requirement already satisfied: urllib3<3,>=1.21.1 in d:\\anaconda\\lib\\site-packages (from requests<3,>=2.21.0->tensorboard<2.14,>=2.13->tensorflow-intel==2.13.1->tensorflow) (2.0.7)\n",
      "Requirement already satisfied: certifi>=2017.4.17 in d:\\anaconda\\lib\\site-packages (from requests<3,>=2.21.0->tensorboard<2.14,>=2.13->tensorflow-intel==2.13.1->tensorflow) (2024.2.2)\n",
      "Requirement already satisfied: MarkupSafe>=2.1.1 in d:\\anaconda\\lib\\site-packages (from werkzeug>=1.0.1->tensorboard<2.14,>=2.13->tensorflow-intel==2.13.1->tensorflow) (2.1.3)\n",
      "Requirement already satisfied: pyasn1<0.5.0,>=0.4.6 in d:\\anaconda\\lib\\site-packages (from pyasn1-modules>=0.2.1->google-auth<3,>=1.6.3->tensorboard<2.14,>=2.13->tensorflow-intel==2.13.1->tensorflow) (0.4.8)\n",
      "Requirement already satisfied: oauthlib>=3.0.0 in d:\\anaconda\\lib\\site-packages (from requests-oauthlib>=0.7.0->google-auth-oauthlib<1.1,>=0.5->tensorboard<2.14,>=2.13->tensorflow-intel==2.13.1->tensorflow) (3.2.2)\n"
     ]
    }
   ],
   "source": [
    "!pip install tensorflow keras"
   ]
  },
  {
   "cell_type": "code",
   "execution_count": 75,
   "id": "e5a04d23-0f7b-416f-b35f-b7256141f725",
   "metadata": {},
   "outputs": [
    {
     "name": "stdout",
     "output_type": "stream",
     "text": [
      "TensorFlow version: 2.13.1\n",
      "Keras version: 2.13.1\n"
     ]
    }
   ],
   "source": [
    "import tensorflow as tf\n",
    "import keras\n",
    "\n",
    "print(\"TensorFlow version:\", tf.__version__)\n",
    "print(\"Keras version:\", keras.__version__)"
   ]
  },
  {
   "cell_type": "code",
   "execution_count": 81,
   "id": "183a705e-5729-4e11-838c-f38fd35ac019",
   "metadata": {},
   "outputs": [],
   "source": [
    "from tensorflow.keras.preprocessing.text import Tokenizer\n",
    "from tensorflow.keras.preprocessing.sequence import pad_sequences\n",
    "from tensorflow.keras.models import Sequential\n",
    "from tensorflow.keras.layers import Embedding, SimpleRNN, Dense"
   ]
  },
  {
   "cell_type": "code",
   "execution_count": 82,
   "id": "6a9a55ed-6f2d-454c-9887-e3ed16c494e8",
   "metadata": {},
   "outputs": [],
   "source": [
    "df = pd.read_csv(r'C:\\Users\\Kiruthika Murugesan\\Desktop\\CSE_lang\\projects\\data_analysis\\social_media_sentiment_analysis\\sentimentdataset.csv', encoding= 'latin-1')\n",
    "texts = df['Text'].astype(str).tolist()\n",
    "labels = df['Sentiment'].tolist()"
   ]
  },
  {
   "cell_type": "code",
   "execution_count": 83,
   "id": "14257bba-0238-438f-96c8-1b4c84ff551d",
   "metadata": {},
   "outputs": [],
   "source": [
    "sentiment_labels = {i: sentiment for i, sentiment in enumerate(df['Sentiment'].unique())}\n",
    "label_to_index = {sentiment: i for i, sentiment in sentiment_labels.items()}\n",
    "\n",
    "labels = [label_to_index[label] for label in labels]\n",
    "num_classes = len(sentiment_labels)"
   ]
  },
  {
   "cell_type": "code",
   "execution_count": 89,
   "id": "212de397-4dd0-4100-b261-ab95a932be60",
   "metadata": {},
   "outputs": [],
   "source": [
    "#Tokenizing the input:\n",
    "max_words= 1000\n",
    "tzr = Tokenizer(num_words = max_words)\n",
    "tzr.fit_on_texts(texts)\n",
    "sequences = tzr.texts_to_sequences(texts)"
   ]
  },
  {
   "cell_type": "code",
   "execution_count": 98,
   "id": "32e823f4-6026-4d69-bdbc-f5c9d4a3bbe2",
   "metadata": {},
   "outputs": [],
   "source": [
    "#Padding the sequences:\n",
    "maxlen = 500\n",
    "sequences_padded = pad_sequences(sequences, maxlen=maxlen)\n",
    "\n",
    "#Convert labels to categories:\n",
    "from tensorflow.keras.utils import to_categorical\n",
    "labels = np.array(labels)\n",
    "labels_categorical = to_categorical(labels, num_classes=num_classes)"
   ]
  },
  {
   "cell_type": "code",
   "execution_count": 100,
   "id": "37d13ead-0891-4d82-b96f-ebaf0848939a",
   "metadata": {},
   "outputs": [],
   "source": [
    "#Building and compiling the model:\n",
    "model = Sequential()\n",
    "model.add(Embedding(max_words,32,input_length =maxlen))\n",
    "model.add(SimpleRNN(32))\n",
    "model.add(Dense(num_classes, activation='softmax'))\n",
    "model.compile(optimizer='adam', loss='categorical_crossentropy', metrics=['accuracy'])"
   ]
  },
  {
   "cell_type": "code",
   "execution_count": 108,
   "id": "ffd7654f-30db-41a1-afba-d212257a2058",
   "metadata": {},
   "outputs": [
    {
     "name": "stdout",
     "output_type": "stream",
     "text": [
      "Epoch 1/20\n",
      "5/5 [==============================] - 1s 222ms/step - loss: 5.3675 - accuracy: 0.1197 - val_loss: 5.5979 - val_accuracy: 0.0272\n",
      "Epoch 2/20\n",
      "5/5 [==============================] - 1s 235ms/step - loss: 5.3344 - accuracy: 0.2051 - val_loss: 5.5997 - val_accuracy: 0.0204\n",
      "Epoch 3/20\n",
      "5/5 [==============================] - 1s 248ms/step - loss: 5.2976 - accuracy: 0.2462 - val_loss: 5.5966 - val_accuracy: 0.0272\n",
      "Epoch 4/20\n",
      "5/5 [==============================] - 1s 241ms/step - loss: 5.2590 - accuracy: 0.2479 - val_loss: 5.5924 - val_accuracy: 0.0408\n",
      "Epoch 5/20\n",
      "5/5 [==============================] - 1s 246ms/step - loss: 5.2178 - accuracy: 0.2615 - val_loss: 5.5944 - val_accuracy: 0.0340\n",
      "Epoch 6/20\n",
      "5/5 [==============================] - 1s 251ms/step - loss: 5.1746 - accuracy: 0.2872 - val_loss: 5.5963 - val_accuracy: 0.0476\n",
      "Epoch 7/20\n",
      "5/5 [==============================] - 1s 257ms/step - loss: 5.1288 - accuracy: 0.3094 - val_loss: 5.5971 - val_accuracy: 0.0476\n",
      "Epoch 8/20\n",
      "5/5 [==============================] - 1s 214ms/step - loss: 5.0797 - accuracy: 0.3299 - val_loss: 5.5998 - val_accuracy: 0.0340\n",
      "Epoch 9/20\n",
      "5/5 [==============================] - 1s 225ms/step - loss: 5.0283 - accuracy: 0.3573 - val_loss: 5.6001 - val_accuracy: 0.0408\n",
      "Epoch 10/20\n",
      "5/5 [==============================] - 1s 253ms/step - loss: 4.9740 - accuracy: 0.3709 - val_loss: 5.5983 - val_accuracy: 0.0340\n",
      "Epoch 11/20\n",
      "5/5 [==============================] - 1s 283ms/step - loss: 4.9158 - accuracy: 0.3880 - val_loss: 5.6001 - val_accuracy: 0.0272\n",
      "Epoch 12/20\n",
      "5/5 [==============================] - 1s 216ms/step - loss: 4.8553 - accuracy: 0.4137 - val_loss: 5.6029 - val_accuracy: 0.0340\n",
      "Epoch 13/20\n",
      "5/5 [==============================] - 1s 195ms/step - loss: 4.7919 - accuracy: 0.4359 - val_loss: 5.6071 - val_accuracy: 0.0408\n",
      "Epoch 14/20\n",
      "5/5 [==============================] - 1s 277ms/step - loss: 4.7251 - accuracy: 0.4581 - val_loss: 5.6078 - val_accuracy: 0.0272\n",
      "Epoch 15/20\n",
      "5/5 [==============================] - 2s 297ms/step - loss: 4.6552 - accuracy: 0.4718 - val_loss: 5.6111 - val_accuracy: 0.0340\n",
      "Epoch 16/20\n",
      "5/5 [==============================] - 1s 274ms/step - loss: 4.5818 - accuracy: 0.4889 - val_loss: 5.6137 - val_accuracy: 0.0340\n",
      "Epoch 17/20\n",
      "5/5 [==============================] - 1s 219ms/step - loss: 4.5062 - accuracy: 0.5077 - val_loss: 5.6167 - val_accuracy: 0.0340\n",
      "Epoch 18/20\n",
      "5/5 [==============================] - 1s 237ms/step - loss: 4.4443 - accuracy: 0.5128 - val_loss: 5.5945 - val_accuracy: 0.0612\n",
      "Epoch 19/20\n",
      "5/5 [==============================] - 1s 247ms/step - loss: 4.3934 - accuracy: 0.4513 - val_loss: 5.6109 - val_accuracy: 0.0272\n",
      "Epoch 20/20\n",
      "5/5 [==============================] - 1s 240ms/step - loss: 4.2957 - accuracy: 0.5658 - val_loss: 5.6497 - val_accuracy: 0.0204\n"
     ]
    },
    {
     "data": {
      "text/plain": [
       "<keras.src.callbacks.History at 0x1edd1987d50>"
      ]
     },
     "execution_count": 108,
     "metadata": {},
     "output_type": "execute_result"
    }
   ],
   "source": [
    "#Train model:\n",
    "batch_size = 128\n",
    "epochs = 20\n",
    "model.fit(sequences_padded, labels_categorical, epochs=epochs, batch_size=batch_size, validation_split=0.2)"
   ]
  },
  {
   "cell_type": "code",
   "execution_count": 113,
   "id": "15d7e2e1-ea4e-4b89-b80d-8d59784c57e0",
   "metadata": {},
   "outputs": [
    {
     "name": "stdin",
     "output_type": "stream",
     "text": [
      "Enter a text (or type quit to exit):  I am happy\n"
     ]
    },
    {
     "name": "stdout",
     "output_type": "stream",
     "text": [
      "1/1 [==============================] - 0s 60ms/step\n",
      "Predicted Sentiment:  Excitement \n"
     ]
    },
    {
     "name": "stdin",
     "output_type": "stream",
     "text": [
      "Enter a text (or type quit to exit):  Do not ever buy this product. Absolutely disgusting, terrible product. Came broken, no quality and sturdiness.\n"
     ]
    },
    {
     "name": "stdout",
     "output_type": "stream",
     "text": [
      "1/1 [==============================] - 0s 61ms/step\n",
      "Predicted Sentiment:  Numbness        \n"
     ]
    },
    {
     "name": "stdin",
     "output_type": "stream",
     "text": [
      "Enter a text (or type quit to exit):  OMGGG we just got engaged, I said yes. I love him so much\n"
     ]
    },
    {
     "name": "stdout",
     "output_type": "stream",
     "text": [
      "1/1 [==============================] - 0s 72ms/step\n",
      "Predicted Sentiment:  Positive  \n"
     ]
    },
    {
     "name": "stdin",
     "output_type": "stream",
     "text": [
      "Enter a text (or type quit to exit):   The state of corruption in our society is utterly disgusting. \n"
     ]
    },
    {
     "name": "stdout",
     "output_type": "stream",
     "text": [
      "1/1 [==============================] - 0s 72ms/step\n",
      "Predicted Sentiment:  Positive  \n"
     ]
    },
    {
     "name": "stdin",
     "output_type": "stream",
     "text": [
      "Enter a text (or type quit to exit):  Amidst the tulip fields of Keukenhof, a tapestry of colors that paints the soul with springtime joy. \n"
     ]
    },
    {
     "name": "stdout",
     "output_type": "stream",
     "text": [
      "1/1 [==============================] - 0s 75ms/step\n",
      "Predicted Sentiment:  Positive  \n"
     ]
    },
    {
     "name": "stdin",
     "output_type": "stream",
     "text": [
      "Enter a text (or type quit to exit):  quit\n"
     ]
    }
   ],
   "source": [
    "def predict_sentiment(model, new_text, tzr, maxlen):\n",
    "    sequence = tzr.texts_to_sequences([new_text])\n",
    "    sequence_padded = pad_sequences(sequence, maxlen=maxlen)\n",
    "    predicted_probabilities = model.predict(sequence_padded)\n",
    "    predicted_class = np.argmax(predicted_probabilities)\n",
    "    return predicted_class\n",
    "    \n",
    "def predict_sentiment_from_input(model, tzr, maxlen):\n",
    "    while True:\n",
    "        user_input = input(\"Enter a text (or type quit to exit): \")\n",
    "        if user_input.lower() == 'quit':\n",
    "            break\n",
    "        predicted_class = predict_sentiment(model, user_input, tzr, maxlen)\n",
    "        sentiment = sentiment_labels[predicted_class]\n",
    "        print(f\"Predicted Sentiment: {sentiment}\")\n",
    "        \n",
    "predict_sentiment_from_input(model, tzr, maxlen)"
   ]
  },
  {
   "cell_type": "code",
   "execution_count": null,
   "id": "ed705cac-138f-4233-9d05-027a6a37a939",
   "metadata": {},
   "outputs": [],
   "source": []
  }
 ],
 "metadata": {
  "kernelspec": {
   "display_name": "Python 3 (ipykernel)",
   "language": "python",
   "name": "python3"
  },
  "language_info": {
   "codemirror_mode": {
    "name": "ipython",
    "version": 3
   },
   "file_extension": ".py",
   "mimetype": "text/x-python",
   "name": "python",
   "nbconvert_exporter": "python",
   "pygments_lexer": "ipython3",
   "version": "3.11.7"
  }
 },
 "nbformat": 4,
 "nbformat_minor": 5
}
